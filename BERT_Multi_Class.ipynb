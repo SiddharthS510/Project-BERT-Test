{
  "cells": [
    {
      "cell_type": "markdown",
      "metadata": {
        "id": "uramjg4GhXD5"
      },
      "source": [
        "\n",
        "**Multi-Label vs. Multi-Class**\n",
        "\n",
        "It's important to note that \"Multi-Class\" and \"Multi-Label\" actually refer to two *different* kinds of tasks, and are handled differently.\n",
        "\n",
        "When our documents can have a variable number of labels, we call it **multi-label** classification. For example, imagine a system which proposes \"tags\" to add to documents--there can be multiple appropriate tags! \n",
        "\n",
        "When each document only belongs to *one category each*, then we refer to it as either **binary** classification (if there are only two classes), or **multi-class** classification (if there are *more than 2* classes).\n"
      ]
    },
    {
      "cell_type": "markdown",
      "metadata": {
        "id": "Lj_eBt3G3bo6"
      },
      "source": [
        "# Part I - Dataset & Tokenization\n",
        "---------------------------------"
      ]
    },
    {
      "cell_type": "markdown",
      "metadata": {
        "id": "nSU7yERLP_66"
      },
      "source": [
        "### 1.1. Connecting GPU\n"
      ]
    },
    {
      "cell_type": "code",
      "execution_count": null,
      "metadata": {
        "colab": {
          "base_uri": "https://localhost:8080/"
        },
        "id": "oYsV4H8fCpZ-",
        "outputId": "e11462fd-09da-4ab9-c5c5-c3fb42c75985",
        "vscode": {
          "languageId": "python"
        }
      },
      "outputs": [
        {
          "name": "stdout",
          "output_type": "stream",
          "text": [
            "There are 1 GPU(s) available.\n",
            "We will use the GPU: Tesla T4\n"
          ]
        }
      ],
      "source": [
        "import torch\n",
        "\n",
        "# If there's a GPU available...\n",
        "if torch.cuda.is_available():    \n",
        "\n",
        "    # Tell PyTorch to use the GPU.    \n",
        "    device = torch.device(\"cuda\")\n",
        "\n",
        "    print('There are %d GPU(s) available.' % torch.cuda.device_count())\n",
        "\n",
        "    print('We will use the GPU:', torch.cuda.get_device_name(0))\n",
        "\n",
        "# If not...\n",
        "else:\n",
        "    print('No GPU available, using the CPU instead.')\n",
        "    device = torch.device(\"cpu\")"
      ]
    },
    {
      "cell_type": "markdown",
      "metadata": {
        "id": "2ElsnSNUridI"
      },
      "source": [
        "### 1.2. Installing `transformers` from huggingface\n"
      ]
    },
    {
      "cell_type": "markdown",
      "metadata": {
        "id": "G_N2UDLevYWn"
      },
      "source": [
        "\n",
        "Next, let's install the [transformers](https://github.com/huggingface/transformers) package from Hugging Face which will give us a pytorch interface for working with BERT. "
      ]
    },
    {
      "cell_type": "code",
      "execution_count": null,
      "metadata": {
        "colab": {
          "base_uri": "https://localhost:8080/"
        },
        "id": "0NmMdkZO8R6q",
        "outputId": "266c71ff-a14f-48e3-eda6-26059f363c21",
        "vscode": {
          "languageId": "python"
        }
      },
      "outputs": [
        {
          "name": "stdout",
          "output_type": "stream",
          "text": [
            "Collecting transformers\n",
            "  Downloading transformers-4.16.0-py3-none-any.whl (3.5 MB)\n",
            "\u001b[K     |████████████████████████████████| 3.5 MB 15.7 MB/s \n",
            "\u001b[?25hCollecting tokenizers!=0.11.3,>=0.10.1\n",
            "  Downloading tokenizers-0.11.4-cp37-cp37m-manylinux_2_12_x86_64.manylinux2010_x86_64.whl (6.8 MB)\n",
            "\u001b[K     |████████████████████████████████| 6.8 MB 47.3 MB/s \n",
            "\u001b[?25hRequirement already satisfied: packaging>=20.0 in /usr/local/lib/python3.7/dist-packages (from transformers) (21.3)\n",
            "Requirement already satisfied: filelock in /usr/local/lib/python3.7/dist-packages (from transformers) (3.4.2)\n",
            "Collecting sacremoses\n",
            "  Downloading sacremoses-0.0.47-py2.py3-none-any.whl (895 kB)\n",
            "\u001b[K     |████████████████████████████████| 895 kB 20.1 MB/s \n",
            "\u001b[?25hCollecting huggingface-hub<1.0,>=0.1.0\n",
            "  Downloading huggingface_hub-0.4.0-py3-none-any.whl (67 kB)\n",
            "\u001b[K     |████████████████████████████████| 67 kB 6.3 MB/s \n",
            "\u001b[?25hRequirement already satisfied: numpy>=1.17 in /usr/local/lib/python3.7/dist-packages (from transformers) (1.19.5)\n",
            "Requirement already satisfied: regex!=2019.12.17 in /usr/local/lib/python3.7/dist-packages (from transformers) (2019.12.20)\n",
            "Collecting pyyaml>=5.1\n",
            "  Downloading PyYAML-6.0-cp37-cp37m-manylinux_2_5_x86_64.manylinux1_x86_64.manylinux_2_12_x86_64.manylinux2010_x86_64.whl (596 kB)\n",
            "\u001b[K     |████████████████████████████████| 596 kB 29.7 MB/s \n",
            "\u001b[?25hRequirement already satisfied: importlib-metadata in /usr/local/lib/python3.7/dist-packages (from transformers) (4.10.1)\n",
            "Requirement already satisfied: tqdm>=4.27 in /usr/local/lib/python3.7/dist-packages (from transformers) (4.62.3)\n",
            "Requirement already satisfied: requests in /usr/local/lib/python3.7/dist-packages (from transformers) (2.23.0)\n",
            "Requirement already satisfied: typing-extensions>=3.7.4.3 in /usr/local/lib/python3.7/dist-packages (from huggingface-hub<1.0,>=0.1.0->transformers) (3.10.0.2)\n",
            "Requirement already satisfied: pyparsing!=3.0.5,>=2.0.2 in /usr/local/lib/python3.7/dist-packages (from packaging>=20.0->transformers) (3.0.7)\n",
            "Requirement already satisfied: zipp>=0.5 in /usr/local/lib/python3.7/dist-packages (from importlib-metadata->transformers) (3.7.0)\n",
            "Requirement already satisfied: urllib3!=1.25.0,!=1.25.1,<1.26,>=1.21.1 in /usr/local/lib/python3.7/dist-packages (from requests->transformers) (1.24.3)\n",
            "Requirement already satisfied: idna<3,>=2.5 in /usr/local/lib/python3.7/dist-packages (from requests->transformers) (2.10)\n",
            "Requirement already satisfied: certifi>=2017.4.17 in /usr/local/lib/python3.7/dist-packages (from requests->transformers) (2021.10.8)\n",
            "Requirement already satisfied: chardet<4,>=3.0.2 in /usr/local/lib/python3.7/dist-packages (from requests->transformers) (3.0.4)\n",
            "Requirement already satisfied: click in /usr/local/lib/python3.7/dist-packages (from sacremoses->transformers) (7.1.2)\n",
            "Requirement already satisfied: joblib in /usr/local/lib/python3.7/dist-packages (from sacremoses->transformers) (1.1.0)\n",
            "Requirement already satisfied: six in /usr/local/lib/python3.7/dist-packages (from sacremoses->transformers) (1.15.0)\n",
            "Installing collected packages: pyyaml, tokenizers, sacremoses, huggingface-hub, transformers\n",
            "  Attempting uninstall: pyyaml\n",
            "    Found existing installation: PyYAML 3.13\n",
            "    Uninstalling PyYAML-3.13:\n",
            "      Successfully uninstalled PyYAML-3.13\n",
            "Successfully installed huggingface-hub-0.4.0 pyyaml-6.0 sacremoses-0.0.47 tokenizers-0.11.4 transformers-4.16.0\n"
          ]
        }
      ],
      "source": [
        "!pip install transformers"
      ]
    },
    {
      "cell_type": "markdown",
      "metadata": {
        "id": "Bt3HTo7LLMtj"
      },
      "source": [
        "## S2. Retrieve & Inspect Dataset\n",
        "\n"
      ]
    },
    {
      "cell_type": "markdown",
      "metadata": {
        "id": "QNgdnNsJO6AJ"
      },
      "source": [
        "The 20 Newsgroups dataset is old (from the 1990s?), and contains what today we would probably call \"forum posts\", coming from 20 different subtopics.  \n",
        "\n",
        "From the dataset [homepage](http://qwone.com/~jason/20Newsgroups/): \n",
        "\n",
        "> \"Here is a list of the 20 newsgroups, partitioned (more or less) according to subject matter:\"\n",
        ">\n",
        "> |                                                                                                                 |                                                                        |                                                             |\n",
        "|-----------------------------------------------------------------------------------------------------------------|------------------------------------------------------------------------|-------------------------------------------------------------|\n",
        "| comp.graphics<br>comp.os.ms-windows.misc<br>comp.sys.ibm.pc.hardware<br>comp.sys.mac.hardware<br>comp.windows.x | rec.autos<br>rec.motorcycles<br>rec.sport.baseball<br>rec.sport.hockey | sci.crypt<br>sci.electronics<br>sci.med<br>sci.space        |\n",
        "| misc.forsale                                                                                                    | talk.politics.misc<br>talk.politics.guns<br>talk.politics.mideast      | talk.religion.misc<br>alt.atheism<br>soc.religion.christian |\n",
        "\n",
        "\n",
        "Scikit-learn includes some nice helper functions for retrieving the 20 Newsgroups dataset (from their example [here](https://scikit-learn.org/0.19/datasets/twenty_newsgroups.html)). We'll use them below to retrieve the dataset.\n",
        "\n"
      ]
    },
    {
      "cell_type": "code",
      "execution_count": null,
      "metadata": {
        "id": "50JTGROXMeBZ",
        "vscode": {
          "languageId": "python"
        }
      },
      "outputs": [],
      "source": [
        "from sklearn.datasets import fetch_20newsgroups\n",
        "\n",
        "# Retrieve the dataset.\n",
        "# The scikit-learn example recommends stripping the metadata from these examples\n",
        "# because it can be too much of a give-away to make it an interesting text \n",
        "# classification problem. That is what the `remove` parameter is doing below.\n",
        "train = fetch_20newsgroups(subset='train',\n",
        "                           remove=('headers', 'footers', 'quotes'))\n",
        "\n",
        "test = fetch_20newsgroups(subset='test',\n",
        "                           remove=('headers', 'footers', 'quotes'))\n"
      ]
    },
    {
      "cell_type": "markdown",
      "metadata": {
        "id": "Z_9jkwfgPz99"
      },
      "source": [
        "Let's check out some random examples."
      ]
    },
    {
      "cell_type": "code",
      "execution_count": null,
      "metadata": {
        "colab": {
          "base_uri": "https://localhost:8080/"
        },
        "id": "Njp6-5b5NwiE",
        "outputId": "6db8d1a4-0868-4da4-f113-dfedf109c7d1",
        "vscode": {
          "languageId": "python"
        }
      },
      "outputs": [
        {
          "name": "stdout",
          "output_type": "stream",
          "text": [
            "\n",
            "======== sci.med ========\n",
            "The best way of self injection is to use the right size needle and choose the\n",
            "correct spot. For Streptomycin, usually given intra muscularly, use a thin\n",
            "needle (23/24 guage) and select a spot on the upper, outer thigh (no major\n",
            "nerves or blood vessels there).  Clean the area with antiseptic before\n",
            "injection, and after. Make sure to inject deeply (a different kind of pain is\n",
            "felt when the needle enters the muscle - contrasted to the 'prick' when it\n",
            "pierces the skin).\n",
            "\n",
            "\n",
            "======== comp.windows.x ========\n",
            "I am creating a graphics program using the Athena widgets. I use Xlib routines\n",
            "to install a custom Graphics Contex by obtaining the display, and window\n",
            "variables with the XtWindowOfObject() and XtDisplayOfObject(). The object was\n",
            "one of the sub widgets.     The problem occurs that whenever a button is pressed\n",
            "or a menu is selected the graphic contex reverts to the orginal one. I tried\n",
            "moving the allocation of the graphic context before the allocation of the\n",
            "buttons but nothing changed. I am preforming all of this manipulation before\n",
            "calling  XtAppMainLoop().  Thank you for any help. Leslie Donaldson\n",
            "\n",
            "\n",
            "======== talk.politics.guns ========\n",
            " [and quotes a lot of stuff unnecessarily]    Ain't got a pair of fatigues...\n",
            "and I don't blast people wandering aimlessly, I ask them what they're doing\n",
            "there... I only blast people who display obvious violent intent... like black-\n",
            "clad men with weapons climbing thru second-story windows, or people who break\n",
            "down the door instead of knocking. Or people who knock my house down with tanks\n",
            "and set it afire.  Sound  familiar yet?  Riddle me this: Why the hell are the\n",
            "CONVICTED CRIMINALS in Ohio getting the kid glove treatment, and the BD's are\n",
            "burned alive without a trial? Put aside who started the blaze, I still think any\n",
            "decent shyster can  make a case for cruel and unusual punishment, playing the\n",
            "sounds of tortured rabbits over the loudspeakers (where's the SPCA in all\n",
            "this?)...  Oh, and that's Mister gun-toter SIR to you, bucko.  Just because you\n",
            "choose to abandon your rights, leave mine the hell alone, thankyouverymuch.\n",
            "\n",
            "\n",
            "======== rec.sport.baseball ========\n",
            "Last week I posted the ALL-TIME GREATEST PLAYERS (and haphazardly misspelled\n",
            "several names--SORRY!)  This week, it's time for the greatest PEAK players. I\n",
            "evaluated the following players on 4 consectutive seasons which constituted\n",
            "their \"prime\" or \"peak\" years.  (3 was too few; 5 seemed to many--so I settled\n",
            "for 4).  Sources, as usual, include Total Baseball 1993 and my own (biased)\n",
            "opinions. Here goes, feel free to comment.   1.  Ted Williams (includes season\n",
            "after war)--missed actual peak years  2.  Babe Ruth  3.  Walter Johnson  4.\n",
            "Mickey Mantle  5.  Mike Schmidt  (actual peak year shortened by strike)  6.\n",
            "Barrry Bonds  (currently at peak)  7.  Honus Wagner  8.  Ty Cobb  9.  Tris\n",
            "Speaker 10.  Willie Mays 11.  Lefty Grove 12.  Sandy Koufax 13.  Joe Morgan 14.\n",
            "Ed Walsh 15.  Christy Mathewson 16.  Lou Gehrig 17.  Jimmie Foxx 18.  Cal Ripken\n",
            "Jr. 19.  Pete Alexander 20.  Cy Young 21.  Tim Raines 22.  Rickey Henderson\n",
            "(again, strike year '81 included) 23.  Carl Yastrzemski 24.  Jackie Robinson 25.\n",
            "Joe DiMaggio 26.  Rogers Hornsby   27.  George Sisler 28.  Eddie Collins 29.\n",
            "Hank Aaron 30.  Stan Musial 31.  Joe Jackson 32.  Wade Boggs 33.  Charlie\n",
            "Gehringer 34.  Ernie Banks 35.  Bob Gibson 36.  Carl Hubbell 37.  Robin Yount\n",
            "38.  Rod Carew 39.  Chuck Klein 40.  Willie McCovey 41.  Frank Robinson 42.  Tom\n",
            "Seaver 43.  Roger Clemens  (arguably, still in peak) 44.  Mel Ott 45.  Frank\n",
            "Baker 46.  Nap Lajoie  (peak came in suspect league) 47.  Dizzy Trout 48.\n",
            "George Brett 49.  Mordecai Brown 50.  Ryne Sandberg  1B  Peak  1) Gehrig  2)\n",
            "Foxx  3) Sisler  4) McCovey  5) Greenberg  6) Frank Thomas (projected--sorry)\n",
            "7) Dick Allen  8) Johnny Mize  9) Eddie Murray (yes, Mr.Consistency had a peak)\n",
            "10) Bill Terry  2B  1) Morgan  2) J.Robinson  3) Collins  4) Hornsby   5)\n",
            "Gehringer  6) Carew (treated as a 2B, even though played 1B)  7) Sandberg  8)\n",
            "Bobby Grich  9) Nap Lajoie 10) Bill Herman, Mazeroski (tough call)  3B)  1)\n",
            "Schmidt  2) Boggs  3) F.Baker  4) Brett  5) Ed Mathews  6) Ron Santo  7) Harland\n",
            "Clift  8) Ken Boyer  9) Buddy Bell 10) Darrell Evans  SS  1) Wagner  2) Ripken\n",
            "3) Banks  4) Yount  5) John Lloyd (estimated)  6) Arky Vaughan  7) Barry Larkin\n",
            "(still in peak?)  8) Lou Boudreau  9) Ozzie Smith 10) Joe Sewell  LF  1)\n",
            "Williams  2) Ba.Bonds  3) Raines  4) Henderson (actually had 2 peaks; 80-83 &\n",
            "83-86)  5) Yastrzemski  6) Musial  7) J.Jackson  8) Ralph Kiner  9) Al Simmons\n",
            "10) George Foster 11) Willie Stargell  CF  1) Mantle  2) Cobb  3) Speaker  4)\n",
            "Mays  5) DiMaggio  6) Oscar Charleston (again, estimated)  7) Duke Snider  8)\n",
            "Ken Griffey Jr.  (personal assumption)  9) Kirby Puckett 10) Richie Ashburn 11)\n",
            "Dale Murphy (strike season?)  RF  1) Ruth  2) Aaron  3) Klein  4) F.Robinson  5)\n",
            "Ott  6) Roberto Clemente  7) Tony Gwynn  8) Dave Parker  9) Reggie Jackson 10)\n",
            "Harry Heilmann 11) Jose Canseco 12) Darryl Strawberry   C  1) Josh Gibson\n",
            "(estimated)  2) Mickey Cochrane  3) Gary Carter  4) Johnny Bench  5) Roy\n",
            "Campanella  6) Yogi Berra  7) Bill Dickey  8) Gabby Hartnett  9) Elston Howard\n",
            "10) Ted Simmons 11) Joe Torre   P  1) W.Johnson  2) Grove  3) Koufax  4) Walsh\n",
            "5) Mathewson  6) Alexander  7) Young  8) Gibson  9) Hubbell 10) Seaver 11)\n",
            "Clemens 12) Satchel Paige (estimated) 13) D.Trout 14) Juan Marichal 15) Mordecai\n",
            "Brown 16) Joe Wood 17) Dave Steib 18) Jim Palmer 19) Bob Lemon 20) Fergie\n",
            "Jenkins   RP  1) Who cares?   I hope there are some surprises here: Raines above\n",
            "Muisial?  Carter above  Bench?  Ripken above Banks?  Bonds above Mays? Check the\n",
            "numbers of each player in comparison to the numbers of the rest of the players\n",
            "that year(s), and you'll see that I'm fairly close with this ranking system\n",
            "(which is primarily based on Total Player Rating) for four consecutive years.\n",
            "\n",
            "\n",
            "======== talk.politics.mideast ========\n",
            "  Bullshit.  You've been in Iceland for the past 30 years.  You told us so\n",
            "yourself.  It had something to do with not wanting to suffer the fate of your\n",
            "mother, who has lived with Jews for a long time or somesuch.  Sounded awful.\n",
            "Are you as concerned about peace and justice in Palestine (Jordan)?   Let's say\n",
            "that Israel grants the PLO _EVERYTHING THEY EVER ASKED FOR_. That Israel goes\n",
            "back to the 1967 borders.  What will the \"Palestinean Arabs\" in Tel-Aviv call\n",
            "themselves?  The Palestineans in West Jerusalem?  In Haifa?  Will they still\n",
            "claim to be \"occupied\"?  Or do you suggest that Israel expell or kill off any\n",
            "remaining Arabs, much as the Arabs did to their Jews?  Indeed, there is much\n",
            "which is not symmetrical about the conflict in the M.E.  And most of this lack\n",
            "of symmetry does NOT favor Israel.\n",
            "\n",
            "\n",
            "======== misc.forsale ========\n",
            "Hello,   I have a BC200XLT handheld radio scanner which recieves police, fire,\n",
            "ambulance, aircraft, cordless and cellular phone, etc.  The unit is in original\n",
            "condition and comes with the manual, the power supply and battery charger.\n",
            "Price is $200 plus s/h.   Austin Harris\n",
            "\n",
            "\n",
            "======== talk.politics.misc ========\n",
            " Excellently put!  Even as a libertarian, I have to admit government does do\n",
            "some things I like.  There is a beautiful performing arts complex in Ft.\n",
            "Lauderdale that was partially built with tax dollars (I don't know how much was\n",
            "private and how much was stolen, I mean public) but it is beautiful and I enjoy\n",
            "it.  (Keep in mind, though, most of the people in the city will never attend a\n",
            "single performance there, so they might feel differently about having to help\n",
            "pay for it.)  However, I have to disagree about it being desireable or efficient\n",
            "to give government intervention-power on a case-by-case basis.  In fact, we have\n",
            "a lot better luck maintaining our freedom of speech precisely because it is not\n",
            "decided on a case-by-case basis as much as other issues.  Judges decide whether\n",
            "political speech is allowed on the sidewalk in front of the post office.  They\n",
            "do not try to decide just whether pro-nazi, pro-choice, pro-life, or pro-tax\n",
            "political speech should be allowed on the sidewalk in front of the post office.\n",
            "You can imagine the result if right to free speech was decided by the majority\n",
            "on a case-by-case basis.  Not so with economic issues.  Government does tell\n",
            "taxi-drivers exactly what they can charge, but not the bus lines or the lawyers.\n",
            "Just as it is not desireable to decide rights of free speech on a case-by-case\n",
            "basis, we should not decide rights to free enterprise on a case-by-case basis.\n",
            "There is hope that a government can be restricted from interferring with free\n",
            "enterprise.  But there is no hope, in my opinion, of having a government that\n",
            "interferes with free enterprise in an \"efficient\" manner; I call it political\n",
            "market failure.  Thus, if you value freedom and the abundance it produces, you\n",
            "have to swallow the \"whole libertarian agenda.\"\n",
            "\n",
            "\n",
            "======== rec.sport.baseball ========\n",
            "Off and on over the last several months, threads about RBIs and related topics\n",
            "have gotten me to thinking about how well we can  predict a player's RBIs using\n",
            "information about his overall performance and the number of runners in scoring\n",
            "position (RISP) that he bats with.  In the Brock2 model, Bill James calculated\n",
            "predicted RBIs as RBI=.235*(Total Bases) + Home Runs.  This  completely ignores\n",
            "the context, which was all that Brock2  could do, since context was unknown to\n",
            "it.  So I thought I'd take that idea as a starting point and look how good a fit\n",
            "to the data you get by comparing (RBI-Home Runs) to SLG*RISP.  I've started with\n",
            "team data, using data from the Elias's that I've picked up over the years when\n",
            "a) I could afford them and b) I could stomach the thought of increasing Elias's\n",
            "profits. That gave me the years 1984-1986, 1988, and 1990.  (I don't  have team\n",
            "RBIs for '87 or I could add that year.)  If you run a simple least squares fit\n",
            "to the data you get   (RBI-Home Runs) = 0.81*SLG*RISP.  The correlation between\n",
            "the LHS and the RHS is 0.86, which is significant at a ridiculously high level.\n",
            "So, I feel like the fit is good at the team level.  I've no started to move on\n",
            "to  the player level and have looked at 4 players (Will Clark, Ozzie Smith, Joe\n",
            "Carter, and Don Mattingly).  I hope to  add quite a few more during my copious\n",
            "free time this year.  It doesn't do too badly, except the equation underpredicts\n",
            "the low HR hitter (Smith), which may be a fault of the model or it could just be\n",
            "Ozzie.  The results:                             RBI-HR          Years\n",
            "Actual   Predicted Carter  (84-88,90)     400       402.6 Clark   (87,88,90,92)\n",
            "269       269.6 Matt'ly (84-88,90)     471       460.8 Smith   (84-88,90)\n",
            "317       280.6  I think we can make a case (and I hope to make it stronger)\n",
            "that RBIs can be predicted simply from knowing how a player slugs overall and\n",
            "how many men are in scoring position when he comes up.  More later, Harold\n",
            "\n",
            "\n",
            "======== comp.sys.mac.hardware ========\n",
            " Ok.  I have a record that shows a IIsi with and without a 64KB cache. It's\n",
            "small enough that I will attach it.  I have also measured some real programs\n",
            "with and without the 64 KB cache.  The speedup varies a lot from app to app,\n",
            "ranging from 0% to 40%.  I think an average of 20%-25% is about right.  The\n",
            "subjective difference is not great, but is sometimes noticable.  A simple cache\n",
            "card certainly does not transform a IIsi into something enormously better.  I do\n",
            "not have an FPU.  The conventional wisdom says that cache cards from all of the\n",
            "makers offer about the same speedup and that there is not much difference\n",
            "between 32K and 64K caches.  I bought mine from Third Wave for well under $150.\n",
            "I have had absolutely no problems at all with it.  If you get *complete*\n",
            "speedometer runs for a 32K cache, I'd like to see them.  Let's check the\n",
            "conventional wisdom!  The so called \"Performance Rating\" numbers by themselves\n",
            "are of no interest.   Cheers.  (This file must be converted with BinHex 4.0)\n",
            ":#@0KBfKP,Q0`G!\"338083e\"$9!!!!!!'A!!!!!$qK3%\"a+!!!!BGJ&CfGiGfH(H\n",
            ")GhQ!QSQBUC!!@SQUU(QSCfPhGhL(H+HCL&KjQTU)LDH)HBL*UCUCJ!U@GQ9hGiK\n",
            "hCAKR9SPiJ)QRQ)QUJ+N(J!UCLD#U#S!!S!QUUTQC#U#DL3J)#3LT#UU)QUUBUT!\n",
            "!S!L3!!UU#!QJS+UT!!QJS*UD#TUUQCQ3!*!!UCFJ!!%c4ACSL'D)L)D!#!!)#!!\n",
            "!!!!!!!!)!!!!!!!!J!B8*%9@9L0A\"i!!G`!!G`B!!(J)\"i###B!P[US),B\")21Z -1I\"k-cQFM-\n",
            "VXMHhA!irdjPcVr,lUCVSZ2SI8j@,-l,jPI`F#lZq0A\"AL8XRHjf,\n",
            "6[LJ09\"aZ2TV6l!$9lN@eAP@Rei8(VIpIQkfDK$-ZV[b+9[T5lkC0XZ6LGhf(Ik&\n",
            "a$Lkh*Q6-qhh2MIlc*Q2Iq$p([GeSp(ejN!\"bHMdHll$&Qh'lR`E26C2(QBqSrMM\n",
            "pa-k()jPGXqcpR2rYR9eYd0,*Mh0,h1rj1*hA%pcLHRSG6PF2eIYmc4rIS60EFp+\n",
            "CGE@Vr$[TRAFA(QkA`pG8JkS[@fe1mcBikFQC(,(9K[U&h\"\"0rr\"BDDT(i%XP3Z$\n",
            "V04L8D82FeU01V4K-9U#JaD@1*fZa`EZr3-eGTYkNXH49SjF2Ei[G*5el3[VZ'j[\n",
            "Vf($bTBHjlEX3Pe0KJ8,ZKH!9Cc3+fJ%kHGZC*BHhNV9+DC6Xd$[S58DFD\"pJ%ei\n",
            "q#CXHkEL`@d%&PYYY\"1f0rG`jm0rJTCYMi4B1KbB'pUBQ)PU9'q\"*m1miHG#YR`b\n",
            "eUNG1'mSAP#mR`i-1*K`l[DiNq'MQjZA(,4bq\"$*Mimq(KC9@@(-Mc'\"f88e9U&0\n",
            "F'Y4U5eXb(\"+6T8D@6(R3ae+10Padk\"CAK!*Ea6SThLiA9HF!H&&Da@[,[2bA2!p\n",
            "2VIr&TI)!6V`%S!*eJ#GS!Q!!QqD#2P!*M49m9IdHhm2frUq2Ek))G3e\"Vi)+rQJ\n",
            "C[`%m#+E&0jf\"YI2ql`VI&0qHH!R[339`'9hY46)TR+ZkXI!pQRQKCU3%ed9R&Cr\n",
            "!QCiUk+ZmEf)IYI&bqMEffkT5bB`JhYl2K[0PXVe0B@@2*@Uam121D`A`h+cC)Xl\n",
            "IEjf8S+#9`a6[P8p0ZC&6H0ajcY1BR\"JDM3`F%lJ1&5bI+SC2Jh([qeTfVK961rR ZVIq[+Rb-\n",
            "TH3'B3f0r$h''cP%\"UY1'jU53jY@5P(RCdPAXAfrl\"Xrhf#Y\"dmV1i$ 9%Dm@T+f4NMlP5jd-\n",
            "XN0(K5C91'R@)4Qb9C5Ke1h%V-kiaRA-NTa`b9(YYL5TM5*\n",
            "F2#bUFFLGJ%,D8QA*9R`eUQ29Sj!!p0b'\"c5LEFR4@%9KpDGj1,bijhNaDH,6mrm\n",
            "(3qpJITeraM0+0RHJ*aJ%f`#HJ!R4JJXDK22e!Cab5DK)jkRq0r[IcrC`[c!Krd(\n",
            "$m1VrbJCX!NR)3FrcHYPk(r1CHJjiJ#Hk%'J84pq+#+$a2&r&bZ,Ff1V,-KG6qG9\n",
            "MbmUPG9XkUeX$2Gl!Gl!Gl!GE!k5hrX(F4IX4IRNYkb\"M%rSbN4`8m8qPq2rAd[j\n",
            "FhRC#4(PeI2RFhY0+j-GH'!P*S)h!#HN!R6JJXb5f'b!clJkfb121qGm2MclEe,S\n",
            "mHpf12b4arQ$Q%%PLK\"q(8@I8[qRmmS5[l`\"2fP!\"4CpjY0,DDAp2AlE#eIPBD0c\n",
            "rL1,PeXj39[%9k`HF4Z,ZKGN4h9A+b-T23l)RDf'a13X\"'-#VbKJ[!9ME*!Tlp2-\n",
            "QckRpM@J2e5BN*f&jHN*[Vp-#f+F(J)PQXJNlYRLpQ3C,%`Cm0l3E[MP\"cXZ6`)B\n",
            "mpVS0)P3Y@XTB5F5qaSr\"XrmrZf1iLXSV,pPVjICFMRrekXdDI`0FHmT[Q!4VL`T\n",
            "aalM336chGUr@\"Me6YarIDI&Y2LpE9HPaI#fhNFmq$qLchVC(dUajJ%eb%(6NdIH\n",
            "p#jqEd#X1cGDTVmDY965+@Pi,Mr1JeR&pq`q@\"AacVkC[0lZi3-Z-5PZk8%f$Vrd\n",
            "HfR&1mci,3&Nqh9r\"e%\"j5Ve$0rN`AbfB\"Qqlk$C`3@LKQRh0(-MKhNYA+UC&Qhq\n",
            "5kajHR1eFqR,2H5b8Z!SLfG3!!2TPmiF!!3!+58PcD5eMB@0SC3%!!!!)6@0S9(0\n",
            "3C$1R$)JJT`b+33%!ADmicJ!#!!!4a3!!!!!!!!B9!!!!!,AP!!!: --\n",
            "\n",
            "\n",
            "======== sci.crypt ========\n",
            " I agree.  So why is Cylink the only (and expensive) game in town?  Note: I\n",
            "think Cylink is great, and if my boss would double my salary, I'd buy  a bunch\n",
            "of their stuff :).  One thing that Clipper offers is interoperability, at a\n",
            "higher degree of  security than we currently have in non-proprietary voice\n",
            "encryption systems. This means it will be cheaper than anyone's proprietary\n",
            "scheme, and easier to  deploy.  This is, of course, either a bug or a feature\n",
            "depending on how you  look at it :).   Great!  Where can I buy it?  Another\n",
            "note: If \"Clipper\" increases the incentive to bring stronger  encryption to the\n",
            "mass market, all the better.  It's far overpriced at  the moment.   I don't care\n",
            "where we *need* to get it from, I care where we *can* get it  from, and whether\n",
            "it will interoperate with everyone else.    You can build them right now as long\n",
            "as you don't want to export (a  restriction I firmly oppose).  The only thing\n",
            "stopping people from making  cheap encryption is greed: they want a lock on the\n",
            "market.   Oh, come on.  Only if you trust it farther than it deserves.  A\n",
            "Clipper phone  *IS NOT* a substitute for a Cylink phone, or a STU-III.  It's a\n",
            "substitute  for the \"voice scramblers\" advertised in the back of Radio\n",
            "Electronics.   I disagree.  Modulo ITAR, it's not the government that has\n",
            "sabotaged the  market.   Can you tell me where exactly we have given up that\n",
            "right?\n",
            "\n"
          ]
        }
      ],
      "source": [
        "import textwrap\n",
        "import random\n",
        "\n",
        "# Wrap text to 80 characters.\n",
        "wrapper = textwrap.TextWrapper(width=80) \n",
        "\n",
        "# Randomly choose some examples.\n",
        "for i in range(10):\n",
        "    \n",
        "    # Choose a random sample by index.\n",
        "    j = random.choice(range(len(train.data)))\n",
        "    \n",
        "    # Get the text as 'x' and the label integer as 'y'.\n",
        "    x = train.data[j]\n",
        "    y = train.target[j]\n",
        "\n",
        "    # Print out the name of the category and the text.\n",
        "    print('')\n",
        "    print('========', train.target_names[y], '========')\n",
        "    print(wrapper.fill(x))\n",
        "    print('')\n"
      ]
    },
    {
      "cell_type": "markdown",
      "metadata": {
        "id": "zU5aPNzzLjeq"
      },
      "source": [
        "Let's look at the classes to see how balanced they are."
      ]
    },
    {
      "cell_type": "code",
      "execution_count": null,
      "metadata": {
        "colab": {
          "base_uri": "https://localhost:8080/",
          "height": 444
        },
        "id": "fcBinIxWLjer",
        "outputId": "4bd4fda2-c195-4f7a-9d4d-4ad9f8784348",
        "vscode": {
          "languageId": "python"
        }
      },
      "outputs": [
        {
          "name": "stderr",
          "output_type": "stream",
          "text": [
            "/usr/local/lib/python3.7/dist-packages/seaborn/_decorators.py:43: FutureWarning: Pass the following variable as a keyword arg: x. From version 0.12, the only valid positional argument will be `data`, and passing other arguments without an explicit keyword will result in an error or misinterpretation.\n",
            "  FutureWarning\n"
          ]
        },
        {
          "data": {
            "text/plain": [
              "Text(0, 0.5, '# of Training Samples')"
            ]
          },
          "execution_count": 5,
          "metadata": {},
          "output_type": "execute_result"
        },
        {
          "data": {
            "image/png": "[encoded data removed]",
            "text/plain": [
              "<Figure size 720x360 with 1 Axes>"
            ]
          },
          "metadata": {},
          "output_type": "display_data"
        }
      ],
      "source": [
        "import matplotlib.pyplot as plt\n",
        "import seaborn as sns\n",
        "import numpy as np\n",
        "\n",
        "sns.set(style='darkgrid')\n",
        "\n",
        "# Increase the plot size and font size.\n",
        "sns.set(font_scale=1.5)\n",
        "plt.rcParams[\"figure.figsize\"] = (10,5)\n",
        "\n",
        "\n",
        "# Plot the number of tokens of each length.\n",
        "sns.countplot(train.target)\n",
        "plt.title('Class Distribution')\n",
        "plt.xlabel('Category')\n",
        "plt.ylabel('# of Training Samples')\n"
      ]
    },
    {
      "cell_type": "markdown",
      "metadata": {
        "id": "Kd1aKF3RQzL1"
      },
      "source": [
        "They look pretty even, except for maybe class 19, which corresponds to 'talk.religion.misc'."
      ]
    },
    {
      "cell_type": "code",
      "execution_count": null,
      "metadata": {
        "colab": {
          "base_uri": "https://localhost:8080/",
          "height": 35
        },
        "id": "WM2D8cKlQ24c",
        "outputId": "86aab0f5-c3d2-4d3a-c340-4ec4833ffe3e",
        "vscode": {
          "languageId": "python"
        }
      },
      "outputs": [
        {
          "data": {
            "application/vnd.google.colaboratory.intrinsic+json": {
              "type": "string"
            },
            "text/plain": [
              "'talk.religion.misc'"
            ]
          },
          "execution_count": 6,
          "metadata": {},
          "output_type": "execute_result"
        }
      ],
      "source": [
        "train.target_names[19]"
      ]
    },
    {
      "cell_type": "markdown",
      "metadata": {
        "id": "2_HzeZqLFWeh"
      },
      "source": [
        "## S3. Tokenization"
      ]
    },
    {
      "cell_type": "markdown",
      "metadata": {
        "id": "k_qjYE4eFciL"
      },
      "source": [
        "BERT has a maximum input length of 512 tokens, so we'll need to truncate any comments which are longer than this.\n"
      ]
    },
    {
      "cell_type": "markdown",
      "metadata": {
        "id": "OMHzhnmuGrpb"
      },
      "source": [
        "### 3.1. Load BertTokenizer"
      ]
    },
    {
      "cell_type": "markdown",
      "metadata": {
        "id": "vT0b0-5NGq0y"
      },
      "source": [
        "\n",
        "In order to see the distribution of comment lengths *in terms of BERT tokens*, we'll need to first apply the BertTokenizer to the dataset."
      ]
    },
    {
      "cell_type": "code",
      "execution_count": null,
      "metadata": {
        "colab": {
          "base_uri": "https://localhost:8080/",
          "height": 163,
          "referenced_widgets": [
            "8d0bd0670b9e4b9e8643e34d61cefc79",
            "eb79383e93014dcab681c8e3385e4155",
            "a4c8fb71c0104561a4ef6380aadb69d1",
            "bafd205da8fe4995aa933dd06ead7627",
            "b3317cf0d02c4ec8a5107a5e7ce65505",
            "25ab8f021218492793b134e85aeed99e",
            "dc4fdbfea5ef4ddfa879ae8e8c73d41c",
            "bc8519042b43417a8f05558e856c95fb",
            "05b603eeb44f427699784f48a79480dd",
            "2fb320fc522a4df2b30ca3dcfeb19ec6",
            "0b42c8746eee40d0880d56a8b060fbc5",
            "1f3d2ee55d704671ab5ae0328a0aa7eb",
            "c7156056ed67491a80e327759c854bc9",
            "ab9579f8042344f5aade3959e7c73e72",
            "4fc09db661e840f1a811052dc9c2e997",
            "9f86eef490894c05ae8b2f54587823bb",
            "cc4acd7b11f44d35985e182ac4254559",
            "058f503b5f2d440f8672e8b1db5f18bb",
            "cd8228e72bc14549be9d33024aced73b",
            "f683a2f3ea0f4b7bba2c8700c8b254db",
            "a2dd33451a534c71b09d0e0bfef8e5b3",
            "4424761ad45a4bf886380eb43007ca8c",
            "d99b1148b5f04720ba24fd8a9f38bdd7",
            "6fbe9e4afd4e47d581b894aa84aaaacb",
            "ef674cc3e12048dcb06a45f3595a28d7",
            "006b02f9837b4fcb8019e39603b43b8e",
            "5813382fe5df4792ad83da2525f826dd",
            "c69c0be3ea7a4dbca4bcff77d9eb836b",
            "8ccb0d74ea8d424aa78549ea5dcd4ac5",
            "44bec76f2f724925baa1e7708f49acc4",
            "8b3a25756a34404ba196168bd72dff49",
            "b2f175ba2c9e4ad684dd2f51111e44cf",
            "e92e06fa224a469fa615fa99da0ca0c4",
            "83b86562c7ff4370acb5b987f3d71d3e",
            "5ccf2ee35b1d4c188d63a1415a94b5cc",
            "001ce8fba55e4cee8276c247b1fa6bfc",
            "6c2fdbe614f84ea48c2435e87c8c4a90",
            "8691f1eceefa4d639255be47e3c7f3e6",
            "c77f613da3dd44bcac25f733cb5c8b70",
            "e1222ed0862447c9a83818a9a85ec03a",
            "fdf55749478d43d6a6c05a8dfbb22210",
            "3a116274536144ef80af6afe4c96d298",
            "ec43be30df9d4b68818b696f60ca12d8",
            "3eeed6bad52e44e5b5877bc87fca8399"
          ]
        },
        "id": "Z474sSC6oe7A",
        "outputId": "9cf6e869-cb9b-47e4-ec67-eb70bc9ee34d",
        "vscode": {
          "languageId": "python"
        }
      },
      "outputs": [
        {
          "name": "stdout",
          "output_type": "stream",
          "text": [
            "Loading BERT tokenizer...\n"
          ]
        },
        {
          "data": {
            "application/vnd.jupyter.widget-view+json": {
              "model_id": "8d0bd0670b9e4b9e8643e34d61cefc79",
              "version_major": 2,
              "version_minor": 0
            },
            "text/plain": [
              "Downloading:   0%|          | 0.00/28.0 [00:00<?, ?B/s]"
            ]
          },
          "metadata": {},
          "output_type": "display_data"
        },
        {
          "data": {
            "application/vnd.jupyter.widget-view+json": {
              "model_id": "1f3d2ee55d704671ab5ae0328a0aa7eb",
              "version_major": 2,
              "version_minor": 0
            },
            "text/plain": [
              "Downloading:   0%|          | 0.00/226k [00:00<?, ?B/s]"
            ]
          },
          "metadata": {},
          "output_type": "display_data"
        },
        {
          "data": {
            "application/vnd.jupyter.widget-view+json": {
              "model_id": "d99b1148b5f04720ba24fd8a9f38bdd7",
              "version_major": 2,
              "version_minor": 0
            },
            "text/plain": [
              "Downloading:   0%|          | 0.00/455k [00:00<?, ?B/s]"
            ]
          },
          "metadata": {},
          "output_type": "display_data"
        },
        {
          "data": {
            "application/vnd.jupyter.widget-view+json": {
              "model_id": "83b86562c7ff4370acb5b987f3d71d3e",
              "version_major": 2,
              "version_minor": 0
            },
            "text/plain": [
              "Downloading:   0%|          | 0.00/570 [00:00<?, ?B/s]"
            ]
          },
          "metadata": {},
          "output_type": "display_data"
        }
      ],
      "source": [
        "from transformers import BertTokenizer\n",
        "\n",
        "# Load the BERT tokenizer.\n",
        "print('Loading BERT tokenizer...')\n",
        "tokenizer = BertTokenizer.from_pretrained('bert-base-uncased', do_lower_case=True)"
      ]
    },
    {
      "cell_type": "markdown",
      "metadata": {
        "id": "-8kEDRvShcU5"
      },
      "source": [
        "### 3.2. Sequence Length Distribution"
      ]
    },
    {
      "cell_type": "markdown",
      "metadata": {
        "id": "OGkq8hQJfqZY"
      },
      "source": [
        "To decide on a truncation strategy for this dataset, let's first look at the distribution of sequence lengths.\n",
        "\n",
        "To do this, our first step is to tokenize all of the samples in the training set."
      ]
    },
    {
      "cell_type": "markdown",
      "metadata": {
        "id": "1M296yz577fV"
      },
      "source": [
        "**Tokenize All Samples**\n",
        "\n",
        "The `tokenizer.encode` function combines multiple steps for us:\n",
        "1. Split the sentence into tokens.\n",
        "2. Add the special `[CLS]` and `[SEP]` tokens.\n",
        "3. Map the tokens to their IDs.\n",
        "\n",
        "In order to explore the distribution of sequence lengths, we will not perform any truncation here. Unfortunately, this results in the tokenizer spitting out a warning for every sample that's longer than 512 tokens. We'll just have to ignore those for now!"
      ]
    },
    {
      "cell_type": "code",
      "execution_count": null,
      "metadata": {
        "colab": {
          "base_uri": "https://localhost:8080/"
        },
        "id": "2bBdb3pt8LuQ",
        "outputId": "aade6ad6-7d60-4ecc-c955-263c68ecc139",
        "vscode": {
          "languageId": "python"
        }
      },
      "outputs": [
        {
          "name": "stderr",
          "output_type": "stream",
          "text": [
            "Token indices sequence length is longer than the specified maximum sequence length for this model (604 > 512). Running this sequence through the model will result in indexing errors\n"
          ]
        },
        {
          "name": "stdout",
          "output_type": "stream",
          "text": [
            "Tokenizing comments...\n",
            "  Read 0 comments.\n",
            "DONE.\n",
            "    11,314 comments\n"
          ]
        }
      ],
      "source": [
        "import numpy as np\n",
        "\n",
        "# Tokenize all of the sentences and map the tokens to thier word IDs.\n",
        "input_ids = []\n",
        "\n",
        "# Record the length of each sequence (in terms of BERT tokens).\n",
        "lengths = []\n",
        "\n",
        "print('Tokenizing comments...')\n",
        "\n",
        "# For every sentence...\n",
        "for sen in train.data:\n",
        "    \n",
        "    # Report progress.\n",
        "    if ((len(input_ids) % 20000) == 0):\n",
        "        print('  Read {:,} comments.'.format(len(input_ids)))\n",
        "    \n",
        "    # `encode` will:\n",
        "    #   (1) Tokenize the sentence.\n",
        "    #   (2) Prepend the `[CLS]` token to the start.\n",
        "    #   (3) Append the `[SEP]` token to the end.\n",
        "    #   (4) Map tokens to their IDs.\n",
        "    encoded_sent = tokenizer.encode(\n",
        "                        sen,                      # Sentence to encode.\n",
        "                        add_special_tokens = True, # Add '[CLS]' and '[SEP]'\n",
        "                        #max_length = 512,          # Truncate all sentences.                        \n",
        "                        #return_tensors = 'pt',     # Return pytorch tensors.\n",
        "                   )\n",
        "    \n",
        "    # Add the encoded sentence to the list.\n",
        "    input_ids.append(encoded_sent)\n",
        "\n",
        "    # Record the non-truncated length.\n",
        "    lengths.append(len(encoded_sent))\n",
        "\n",
        "print('DONE.')\n",
        "print('{:>10,} comments'.format(len(input_ids)))"
      ]
    },
    {
      "cell_type": "markdown",
      "metadata": {
        "id": "X_erWZU7hDTB"
      },
      "source": [
        "Let's grab some quick statistics--what are the min, max and median comment lengths?"
      ]
    },
    {
      "cell_type": "code",
      "execution_count": null,
      "metadata": {
        "colab": {
          "base_uri": "https://localhost:8080/"
        },
        "id": "qmrQVSsjg6By",
        "outputId": "f6a5b43f-8a7b-433a-9fef-190370a10add",
        "vscode": {
          "languageId": "python"
        }
      },
      "outputs": [
        {
          "name": "stdout",
          "output_type": "stream",
          "text": [
            "   Min length: 2 tokens\n",
            "   Max length: 52,886 tokens\n",
            "Median length: 124.0 tokens\n"
          ]
        }
      ],
      "source": [
        "print('   Min length: {:,} tokens'.format(min(lengths)))\n",
        "print('   Max length: {:,} tokens'.format(max(lengths)))\n",
        "print('Median length: {:,} tokens'.format(np.median(lengths)))"
      ]
    },
    {
      "cell_type": "markdown",
      "metadata": {
        "id": "jIkyE9qjSjk3"
      },
      "source": [
        "What percentage are over the 512 limit?"
      ]
    },
    {
      "cell_type": "code",
      "execution_count": null,
      "metadata": {
        "colab": {
          "base_uri": "https://localhost:8080/"
        },
        "id": "DsAV58bZSmEt",
        "outputId": "1ffec66a-8b4c-4e1a-e6b7-b3c99b849fa3",
        "vscode": {
          "languageId": "python"
        }
      },
      "outputs": [
        {
          "name": "stdout",
          "output_type": "stream",
          "text": [
            "1,015 of 11,314 comments will be truncated (8.97%)\n"
          ]
        }
      ],
      "source": [
        "num_over = 0\n",
        "\n",
        "# For all of the length values...\n",
        "for length in lengths:\n",
        "    # Tally if it's over 512.\n",
        "    if length > 512:\n",
        "        num_over += 1\n",
        "\n",
        "print('{:,} of {:,} comments will be truncated ({:.2%})'.format(num_over, len(lengths), float(num_over) / float(len(lengths))))"
      ]
    },
    {
      "cell_type": "markdown",
      "metadata": {
        "id": "xytsw1oIfnX0"
      },
      "source": [
        "To further analyze it, let's plot the distribution. To keep the scale of the x-axis reasonable, *we'll clip the lengths to 512.*\n"
      ]
    },
    {
      "cell_type": "code",
      "execution_count": null,
      "metadata": {
        "colab": {
          "base_uri": "https://localhost:8080/",
          "height": 444
        },
        "id": "iLhi9A49zmsy",
        "outputId": "9036b5d7-7a4c-46d4-f486-72f25cfb1f44",
        "vscode": {
          "languageId": "python"
        }
      },
      "outputs": [
        {
          "name": "stderr",
          "output_type": "stream",
          "text": [
            "/usr/local/lib/python3.7/dist-packages/seaborn/distributions.py:2619: FutureWarning: `distplot` is a deprecated function and will be removed in a future version. Please adapt your code to use either `displot` (a figure-level function with similar flexibility) or `histplot` (an axes-level function for histograms).\n",
            "  warnings.warn(msg, FutureWarning)\n"
          ]
        },
        {
          "data": {
            "text/plain": [
              "Text(0, 0.5, '# of Comments')"
            ]
          },
          "execution_count": 11,
          "metadata": {},
          "output_type": "execute_result"
        },
        {
          "data": {
            "image/png": "[encoded data removed]",
            "text/plain": [
              "<Figure size 720x360 with 1 Axes>"
            ]
          },
          "metadata": {},
          "output_type": "display_data"
        }
      ],
      "source": [
        "import matplotlib.pyplot as plt\n",
        "import seaborn as sns\n",
        "import numpy as np\n",
        "\n",
        "sns.set(style='darkgrid')\n",
        "\n",
        "# Increase the plot size and font size.\n",
        "sns.set(font_scale=1.5)\n",
        "plt.rcParams[\"figure.figsize\"] = (10,5)\n",
        "\n",
        "# Truncate any comment lengths greater than 512.\n",
        "trunc_lengths = [min(l, 512) for l in lengths]\n",
        "\n",
        "# Plot the distribution of comment lengths.\n",
        "sns.distplot(trunc_lengths, kde=False, rug=False)\n",
        "\n",
        "# Alternatively, you might try using a log scale on the x-axis, but this is \n",
        "# tricky. See here for one approach:\n",
        "# https://stackoverflow.com/questions/47850202/plotting-a-histogram-on-a-log-scale-with-matplotlib?rq=1\n",
        "#plt.xscale('log')\n",
        "\n",
        "plt.title('Comment Lengths')\n",
        "plt.xlabel('Comment Length')\n",
        "plt.ylabel('# of Comments')\n"
      ]
    },
    {
      "cell_type": "markdown",
      "metadata": {
        "id": "lH0TfSYpjYlx"
      },
      "source": [
        "### 3.3. `max_len` & GPU Memory Concerns"
      ]
    },
    {
      "cell_type": "markdown",
      "metadata": {
        "id": "mvuHdXi1CsBB"
      },
      "source": [
        "Given the higher percentage of longer-than-512-tokens samples, I thought it might make sense to try a maximum length of 512 for this example. However, with `batch_size = 32` and `max_len = 512`, I ran into a GPU out-of-memory error on the first iteration of the training loop! \n",
        "\n",
        "After performing some analysis and a number of experiments (which you can see in [part 3](https://colab.research.google.com/drive/1cAcQbTwmDpBYjPYLGRQnWhtBdx2_Aj1O) of the \"Case Study\"), here are some of my conclusions:\n",
        "\n",
        "1. If the combination of your `batch_size` and `max_len` are too high, then you can easily run out of memory (even on a Tesla K80 with 12GB!) when fine-tuning BERT-base. For example, with `batch_size = 16`, a `max_len = ~400` is about the limit on a Tesla K80. \n",
        "2. Reducing `batch_size` reduces memory consumption, but at the cost of slower training, and finding the best choice of `batch_size` appears to be important for accuracy.\n",
        "3. Reducing `max_len` reduces memory consumption and speeds up training, but has a substantial impact on BERT's accuracy on this benchmark. \n",
        "\n",
        "Again, for more details and analysis, see [part 3](https://colab.research.google.com/drive/1cAcQbTwmDpBYjPYLGRQnWhtBdx2_Aj1O) of the case study.\n",
        "\n",
        "I landed on `batch_size = 16` and `max_len = 300` for this example. The Tesla K80 has enough memory for this configuration, and BERT achieves higher accuracy then a simpler baseline classifier (more on that in \"Part III - Performance & Analysis\").\n"
      ]
    },
    {
      "cell_type": "code",
      "execution_count": null,
      "metadata": {
        "id": "sPN9UmdHCv1w",
        "vscode": {
          "languageId": "python"
        }
      },
      "outputs": [],
      "source": [
        "max_len = 300"
      ]
    },
    {
      "cell_type": "markdown",
      "metadata": {
        "id": "7oQ69-4wU7v-"
      },
      "source": [
        "### 3.4. Perform Tokenization"
      ]
    },
    {
      "cell_type": "markdown",
      "metadata": {
        "id": "tIWAoWL2RK1p"
      },
      "source": [
        "Now we're ready to perform the real tokenization.\n",
        "\n",
        "The `tokenizer.encode_plus` function combines multiple steps for us:\n",
        "\n",
        "1. Split the sentence into tokens.\n",
        "2. Add the special `[CLS]` and `[SEP]` tokens.\n",
        "3. Map the tokens to their IDs.\n",
        "4. Pad or truncate all sentences to the same length.\n",
        "5. Create the attention masks which explicitly differentiate real tokens from `[PAD]` tokens.\n",
        "\n",
        "The first four features are in `tokenizer.encode`, but I'm using `tokenizer.encode_plus` to get the fifth item (attention masks). Documentation is [here](https://huggingface.co/transformers/main_classes/tokenizer.html?highlight=encode_plus#transformers.PreTrainedTokenizer.encode_plus).\n",
        "\n",
        "I generally try to avoid defining functions in my *tutorial* code, but I feel it's warranted here because we'll need to run this step twice--once for the training set and again for the test set--and it's a lot of code / comments to have duplicated.\n"
      ]
    },
    {
      "cell_type": "code",
      "execution_count": null,
      "metadata": {
        "id": "1ijEWKSYUpHh",
        "vscode": {
          "languageId": "python"
        }
      },
      "outputs": [],
      "source": [
        "def my_tokenize(comments, labels, max_len):\n",
        "    '''\n",
        "    Tokenize a dataset of comments.\n",
        "\n",
        "    Parameters:\n",
        "      `comments` - List of comments, represented as strings.\n",
        "        `labels` - List of integer labels for the corresponding comments.\n",
        "       `max_len` - Truncate all of the comments down to this length.\n",
        "    \n",
        "    Returns:\n",
        "      `input_ids` - All of the comments represented as lists of token IDs,\n",
        "                    padded out to `max_len`, and cast as a PyTorch tensor.\n",
        "         `labels` - The labels for the corresponding comments, formatted as \n",
        "                    a PyTorch tensor.\n",
        "      `attention_masks` - PyTorch tensor with the same dimensions as\n",
        "                          `input_ids`. For each token, simply indicates whether\n",
        "                           it is padding or not.\n",
        "    '''\n",
        "    # Tokenize all of the sentences and map the tokens to thier word IDs.\n",
        "    input_ids = []\n",
        "    attention_masks = []\n",
        "\n",
        "    print('Tokenizing {:,} comments...'.format(len(comments)))\n",
        "\n",
        "    # For every comment (\"sentence\")...\n",
        "    for sent in comments:\n",
        "\n",
        "        # Report progress.\n",
        "        if ((len(input_ids) % 500) == 0):\n",
        "            print('  Tokenized {:,} comments.'.format(len(input_ids)))\n",
        "\n",
        "        # `encode_plus` will:\n",
        "        #   (1) Tokenize the sentence.\n",
        "        #   (2) Prepend the `[CLS]` token to the start.\n",
        "        #   (3) Append the `[SEP]` token to the end.\n",
        "        #   (4) Map tokens to their IDs.\n",
        "        #   (5) Pad or truncate the sentence to `max_length`\n",
        "        #   (6) Create attention masks for [PAD] tokens.\n",
        "        encoded_dict = tokenizer.encode_plus(\n",
        "                            sent,                      # Sentence to encode.\n",
        "                            add_special_tokens = True, # Add '[CLS]' and '[SEP]'\n",
        "                            max_length = max_len,      # Pad & truncate all sentences.\n",
        "                            pad_to_max_length = True,\n",
        "                            return_attention_mask = True,   # Construct attn. masks.\n",
        "                            return_tensors = 'pt',     # Return pytorch tensors.\n",
        "                    )\n",
        "        \n",
        "        # Add the encoded sentence to the list.    \n",
        "        input_ids.append(encoded_dict['input_ids'])\n",
        "        \n",
        "        # And its attention mask (simply differentiates padding from non-padding).\n",
        "        attention_masks.append(encoded_dict['attention_mask'])\n",
        "\n",
        "    # Convert the lists into tensors.\n",
        "    input_ids = torch.cat(input_ids, dim=0)\n",
        "    attention_masks = torch.cat(attention_masks, dim=0)\n",
        "\n",
        "    # Convert the labels to a tensor.\n",
        "    labels = torch.tensor(labels)\n",
        "\n",
        "    return (input_ids, labels, attention_masks)\n"
      ]
    },
    {
      "cell_type": "markdown",
      "metadata": {
        "id": "TT4m3oytdVMK"
      },
      "source": [
        "Now we'll use the above function to actually perform the tokenization of the training comments."
      ]
    },
    {
      "cell_type": "code",
      "execution_count": null,
      "metadata": {
        "colab": {
          "base_uri": "https://localhost:8080/"
        },
        "id": "qLSoKse4dIYE",
        "outputId": "88c8315a-7be8-4038-ace9-b4c6843cb221",
        "vscode": {
          "languageId": "python"
        }
      },
      "outputs": [
        {
          "name": "stderr",
          "output_type": "stream",
          "text": [
            "Truncation was not explicitly activated but `max_length` is provided a specific value, please use `truncation=True` to explicitly truncate examples to max length. Defaulting to 'longest_first' truncation strategy. If you encode pairs of sequences (GLUE-style) with the tokenizer you can select this strategy more precisely by providing a specific strategy to `truncation`.\n"
          ]
        },
        {
          "name": "stdout",
          "output_type": "stream",
          "text": [
            "Tokenizing 11,314 comments...\n",
            "  Tokenized 0 comments.\n"
          ]
        },
        {
          "name": "stderr",
          "output_type": "stream",
          "text": [
            "/usr/local/lib/python3.7/dist-packages/transformers/tokenization_utils_base.py:2257: FutureWarning: The `pad_to_max_length` argument is deprecated and will be removed in a future version, use `padding=True` or `padding='longest'` to pad to the longest sequence in the batch, or use `padding='max_length'` to pad to a max length. In this case, you can give a specific length with `max_length` (e.g. `max_length=45`) or leave max_length to None to pad to the maximal input size of the model (e.g. 512 for Bert).\n",
            "  FutureWarning,\n"
          ]
        },
        {
          "name": "stdout",
          "output_type": "stream",
          "text": [
            "  Tokenized 500 comments.\n",
            "  Tokenized 1,000 comments.\n",
            "  Tokenized 1,500 comments.\n",
            "  Tokenized 2,000 comments.\n",
            "  Tokenized 2,500 comments.\n",
            "  Tokenized 3,000 comments.\n",
            "  Tokenized 3,500 comments.\n",
            "  Tokenized 4,000 comments.\n",
            "  Tokenized 4,500 comments.\n",
            "  Tokenized 5,000 comments.\n",
            "  Tokenized 5,500 comments.\n",
            "  Tokenized 6,000 comments.\n",
            "  Tokenized 6,500 comments.\n",
            "  Tokenized 7,000 comments.\n",
            "  Tokenized 7,500 comments.\n",
            "  Tokenized 8,000 comments.\n",
            "  Tokenized 8,500 comments.\n",
            "  Tokenized 9,000 comments.\n",
            "  Tokenized 9,500 comments.\n",
            "  Tokenized 10,000 comments.\n",
            "  Tokenized 10,500 comments.\n",
            "  Tokenized 11,000 comments.\n"
          ]
        }
      ],
      "source": [
        "# Tokenize our entire training set.\n",
        "(train_input_ids, \n",
        " train_labels, \n",
        " train_attention_masks) = my_tokenize(train.data, train.target, max_len = max_len)"
      ]
    },
    {
      "cell_type": "markdown",
      "metadata": {
        "id": "xw-UzXM7dcuP"
      },
      "source": [
        "Let's take a peak at one of the training examples."
      ]
    },
    {
      "cell_type": "code",
      "execution_count": null,
      "metadata": {
        "colab": {
          "base_uri": "https://localhost:8080/"
        },
        "id": "y1CRcdfqdfGi",
        "outputId": "fc1b02cf-72cc-420f-fa51-465612a34b53",
        "vscode": {
          "languageId": "python"
        }
      },
      "outputs": [
        {
          "name": "stdout",
          "output_type": "stream",
          "text": [
            "Original:  I was wondering if anyone out there could enlighten me on this car I saw\n",
            "the other day. It was a 2-door sports car, looked to be from the late 60s/\n",
            "early 70s. It was called a Bricklin. The doors were really small. In addition,\n",
            "the front bumper was separate from the rest of the body. This is \n",
            "all I know. If anyone can tellme a model name, engine specs, years\n",
            "of production, where this car is made, history, or whatever info you\n",
            "have on this funky looking car, please e-mail.\n",
            "Token IDs: tensor([  101,  1045,  2001,  6603,  2065,  3087,  2041,  2045,  2071,  4372,\n",
            "         7138,  2368,  2033,  2006,  2023,  2482,  1045,  2387,  1996,  2060,\n",
            "         2154,  1012,  2009,  2001,  1037,  1016,  1011,  2341,  2998,  2482,\n",
            "         1010,  2246,  2000,  2022,  2013,  1996,  2397, 20341,  1013,  2220,\n",
            "        17549,  1012,  2009,  2001,  2170,  1037,  5318,  4115,  1012,  1996,\n",
            "         4303,  2020,  2428,  2235,  1012,  1999,  2804,  1010,  1996,  2392,\n",
            "        21519,  2001,  3584,  2013,  1996,  2717,  1997,  1996,  2303,  1012,\n",
            "         2023,  2003,  2035,  1045,  2113,  1012,  2065,  3087,  2064,  2425,\n",
            "         4168,  1037,  2944,  2171,  1010,  3194, 28699,  2015,  1010,  2086,\n",
            "         1997,  2537,  1010,  2073,  2023,  2482,  2003,  2081,  1010,  2381,\n",
            "         1010,  2030,  3649, 18558,  2017,  2031,  2006,  2023, 24151,  2559,\n",
            "         2482,  1010,  3531,  1041,  1011,  5653,  1012,   102,     0,     0,\n",
            "            0,     0,     0,     0,     0,     0,     0,     0,     0,     0,\n",
            "            0,     0,     0,     0,     0,     0,     0,     0,     0,     0,\n",
            "            0,     0,     0,     0,     0,     0,     0,     0,     0,     0,\n",
            "            0,     0,     0,     0,     0,     0,     0,     0,     0,     0,\n",
            "            0,     0,     0,     0,     0,     0,     0,     0,     0,     0,\n",
            "            0,     0,     0,     0,     0,     0,     0,     0,     0,     0,\n",
            "            0,     0,     0,     0,     0,     0,     0,     0,     0,     0,\n",
            "            0,     0,     0,     0,     0,     0,     0,     0,     0,     0,\n",
            "            0,     0,     0,     0,     0,     0,     0,     0,     0,     0,\n",
            "            0,     0,     0,     0,     0,     0,     0,     0,     0,     0,\n",
            "            0,     0,     0,     0,     0,     0,     0,     0,     0,     0,\n",
            "            0,     0,     0,     0,     0,     0,     0,     0,     0,     0,\n",
            "            0,     0,     0,     0,     0,     0,     0,     0,     0,     0,\n",
            "            0,     0,     0,     0,     0,     0,     0,     0,     0,     0,\n",
            "            0,     0,     0,     0,     0,     0,     0,     0,     0,     0,\n",
            "            0,     0,     0,     0,     0,     0,     0,     0,     0,     0,\n",
            "            0,     0,     0,     0,     0,     0,     0,     0,     0,     0,\n",
            "            0,     0,     0,     0,     0,     0,     0,     0,     0,     0])\n"
          ]
        }
      ],
      "source": [
        "# Print sentence 0, now as a list of IDs.\n",
        "print('Original: ', train.data[0])\n",
        "print('Token IDs:', train_input_ids[0])"
      ]
    },
    {
      "cell_type": "markdown",
      "metadata": {
        "id": "G7npHp8DaNq-"
      },
      "source": [
        "Let's also tokenize the test dataset while we're at it."
      ]
    },
    {
      "cell_type": "code",
      "execution_count": null,
      "metadata": {
        "colab": {
          "base_uri": "https://localhost:8080/"
        },
        "id": "6b7BbQbgaRVB",
        "outputId": "9141230f-aa72-42eb-f733-df2287acfefa",
        "vscode": {
          "languageId": "python"
        }
      },
      "outputs": [
        {
          "name": "stdout",
          "output_type": "stream",
          "text": [
            "Tokenizing 7,532 comments...\n",
            "  Tokenized 0 comments.\n"
          ]
        },
        {
          "name": "stderr",
          "output_type": "stream",
          "text": [
            "/usr/local/lib/python3.7/dist-packages/transformers/tokenization_utils_base.py:2257: FutureWarning: The `pad_to_max_length` argument is deprecated and will be removed in a future version, use `padding=True` or `padding='longest'` to pad to the longest sequence in the batch, or use `padding='max_length'` to pad to a max length. In this case, you can give a specific length with `max_length` (e.g. `max_length=45`) or leave max_length to None to pad to the maximal input size of the model (e.g. 512 for Bert).\n",
            "  FutureWarning,\n"
          ]
        },
        {
          "name": "stdout",
          "output_type": "stream",
          "text": [
            "  Tokenized 500 comments.\n",
            "  Tokenized 1,000 comments.\n",
            "  Tokenized 1,500 comments.\n",
            "  Tokenized 2,000 comments.\n",
            "  Tokenized 2,500 comments.\n",
            "  Tokenized 3,000 comments.\n",
            "  Tokenized 3,500 comments.\n",
            "  Tokenized 4,000 comments.\n",
            "  Tokenized 4,500 comments.\n",
            "  Tokenized 5,000 comments.\n",
            "  Tokenized 5,500 comments.\n",
            "  Tokenized 6,000 comments.\n",
            "  Tokenized 6,500 comments.\n",
            "  Tokenized 7,000 comments.\n",
            "  Tokenized 7,500 comments.\n"
          ]
        }
      ],
      "source": [
        "# Tokenize our entire test set.\n",
        "(test_input_ids, \n",
        " test_labels, \n",
        " test_attention_masks) = my_tokenize(test.data, test.target, max_len = max_len)"
      ]
    },
    {
      "cell_type": "markdown",
      "metadata": {
        "id": "Wl12-BD637Ty"
      },
      "source": [
        "# Part II - BERT Fine-Tuning"
      ]
    },
    {
      "cell_type": "markdown",
      "metadata": {
        "id": "8bwa6Rts-02-"
      },
      "source": [
        "## S4. Train Our Classification Model"
      ]
    },
    {
      "cell_type": "markdown",
      "metadata": {
        "id": "3xYQ3iLO08SX"
      },
      "source": [
        "Now that our input data is properly formatted, it's time to fine tune the BERT model. "
      ]
    },
    {
      "cell_type": "markdown",
      "metadata": {
        "id": "cKetqAKJiwpj"
      },
      "source": [
        "### `check_gpu_mem`"
      ]
    },
    {
      "cell_type": "markdown",
      "metadata": {
        "id": "DDZZgG6ei1wF"
      },
      "source": [
        "The following function will return a table showing the GPU's current memory usage versus its total memory. It uses the `nvidia-smi` command line tool to retrieve this.\n",
        "\n",
        "Note that the memory values are in \"MiB\". 1 MiB = 2^20 bytes = 1,048,576 bytes."
      ]
    },
    {
      "cell_type": "code",
      "execution_count": null,
      "metadata": {
        "id": "kRJBBgfZiwpl",
        "vscode": {
          "languageId": "python"
        }
      },
      "outputs": [],
      "source": [
        "import os\n",
        "import pandas as pd\n",
        "import csv\n",
        "\n",
        "def check_gpu_mem():\n",
        "    '''\n",
        "    Uses Nvidia's SMI tool to check the current GPU memory usage.\n",
        "    Reported values are in \"MiB\". 1 MiB = 2^20 bytes = 1,048,576 bytes.\n",
        "    '''\n",
        "    \n",
        "    # Run the command line tool and get the results.\n",
        "    buf = os.popen('nvidia-smi --query-gpu=memory.total,memory.used --format=csv')\n",
        "\n",
        "    # Use csv module to read and parse the result.\n",
        "    reader = csv.reader(buf, delimiter=',')\n",
        "\n",
        "    # Use a pandas table just for nice formatting.\n",
        "    df = pd.DataFrame(reader)\n",
        "\n",
        "    # Use the first row as the column headers.\n",
        "    new_header = df.iloc[0] #grab the first row for the header\n",
        "    df = df[1:] #take the data less the header row\n",
        "    df.columns = new_header #set the header row as the df header\n",
        "\n",
        "    # Display the formatted table.\n",
        "    #display(df)\n",
        "\n",
        "    return df\n"
      ]
    },
    {
      "cell_type": "markdown",
      "metadata": {
        "id": "D6TKgyUzPIQc"
      },
      "source": [
        "### 4.1. Load Pre-Trained Model"
      ]
    },
    {
      "cell_type": "markdown",
      "metadata": {
        "id": "BXYitPoE-cjH"
      },
      "source": [
        "As usual, for text classification, we'll be using [BertForSequenceClassification](https://huggingface.co/transformers/model_doc/bert.html#bertforsequenceclassification). \n"
      ]
    },
    {
      "cell_type": "markdown",
      "metadata": {
        "id": "aNW2tFMZHedj"
      },
      "source": [
        "\n",
        "**Output Classifier**\n",
        "\n",
        "Because this is a **multi-class** example, the `transformers` class will add a **Softmax Regression classifier** onto the end of the pre-trained BERT model. \n",
        "\n",
        "The Softmax Regression classifier is designed to accomodate the fact that *only one class* is the correct label. It outputs probabilities for each class, which all sum to 1.0.  \n",
        "\n",
        "[![SoftMax Regression](https://drive.google.com/uc?export=view&id=1TlWV75wB_HZxB-JHhN_mWdqlwZRqVffS)](https://drive.google.com/uc?export=view&id=1TlWV75wB_HZxB-JHhN_mWdqlwZRqVffS)\n",
        "\n",
        "The fact that this is a multi-class example is communicated through the `num_labels = 20` parameter in the next code cell. \n",
        "\n"
      ]
    },
    {
      "cell_type": "markdown",
      "metadata": {
        "id": "7xFPk4RDHcnH"
      },
      "source": [
        "\n",
        "**Model Variant**\n",
        "\n",
        "We'll use \"bert-base-uncased\" for this example, the version that has only lowercase letters (\"uncased\") and is the smaller version of the two (\"base\" vs \"large\").\n",
        "\n",
        "The documentation for `from_pretrained` can be found [here](https://huggingface.co/transformers/v2.2.0/main_classes/model.html#transformers.PreTrainedModel.from_pretrained), with the additional parameters defined [here](https://huggingface.co/transformers/v2.2.0/main_classes/configuration.html#transformers.PretrainedConfig).\n",
        "\n",
        "During fine-tuning, the entire pre-trained BERT model and the additional untrained classification layer is trained on our specific task. \n"
      ]
    },
    {
      "cell_type": "code",
      "execution_count": null,
      "metadata": {
        "colab": {
          "base_uri": "https://localhost:8080/",
          "height": 156,
          "referenced_widgets": [
            "0239b2f3590d4f2b8c51b339ecf92866",
            "dc3e8db4fb9546788632cedce7d3eff5",
            "29da5cc80c9e4a71963143bed3b4fdba",
            "37068c53278e494db87d0ac3a7037f76",
            "461e890f243c44a7bc1eb886e56555c5",
            "fb9c649489de43579e69bf25898bcee5",
            "0ac0d1562f5141c99a90ef8394b60fe9",
            "0ceb51d5a42e4bc6b2a192836413d3e8",
            "184d7f8b68cd45dd95a5535cbd452eb3",
            "3afc3f45aaab4535a69e89ad9c4ba570",
            "9ebed1f6877542c6bac5274bea7e4451"
          ]
        },
        "id": "gFsCTp_mporB",
        "outputId": "6a4cad07-3733-45c4-c15e-363c60815bdf",
        "vscode": {
          "languageId": "python"
        }
      },
      "outputs": [
        {
          "data": {
            "application/vnd.jupyter.widget-view+json": {
              "model_id": "0239b2f3590d4f2b8c51b339ecf92866",
              "version_major": 2,
              "version_minor": 0
            },
            "text/plain": [
              "Downloading:   0%|          | 0.00/420M [00:00<?, ?B/s]"
            ]
          },
          "metadata": {},
          "output_type": "display_data"
        },
        {
          "name": "stderr",
          "output_type": "stream",
          "text": [
            "Some weights of the model checkpoint at bert-base-uncased were not used when initializing BertForSequenceClassification: ['cls.predictions.transform.dense.bias', 'cls.predictions.transform.LayerNorm.weight', 'cls.predictions.decoder.weight', 'cls.seq_relationship.bias', 'cls.predictions.bias', 'cls.predictions.transform.LayerNorm.bias', 'cls.seq_relationship.weight', 'cls.predictions.transform.dense.weight']\n",
            "- This IS expected if you are initializing BertForSequenceClassification from the checkpoint of a model trained on another task or with another architecture (e.g. initializing a BertForSequenceClassification model from a BertForPreTraining model).\n",
            "- This IS NOT expected if you are initializing BertForSequenceClassification from the checkpoint of a model that you expect to be exactly identical (initializing a BertForSequenceClassification model from a BertForSequenceClassification model).\n",
            "Some weights of BertForSequenceClassification were not initialized from the model checkpoint at bert-base-uncased and are newly initialized: ['classifier.bias', 'classifier.weight']\n",
            "You should probably TRAIN this model on a down-stream task to be able to use it for predictions and inference.\n"
          ]
        }
      ],
      "source": [
        "from transformers import BertForSequenceClassification, AdamW, BertConfig\n",
        "\n",
        "# Load BertForSequenceClassification, the pretrained BERT model with a single \n",
        "# linear classification layer on top. \n",
        "model = BertForSequenceClassification.from_pretrained(\n",
        "    \"bert-base-uncased\", # Use the 12-layer BERT model, with an uncased vocab.\n",
        "    num_labels = 20, # For our 20 newsgroups!\n",
        "    output_attentions = False, # Whether the model returns attentions weights.\n",
        "    output_hidden_states = False, # Whether the model returns all hidden-states.\n",
        ")\n",
        "\n",
        "# Tell pytorch to run this model on the GPU.\n",
        "desc = model.cuda()"
      ]
    },
    {
      "cell_type": "code",
      "execution_count": null,
      "metadata": {
        "colab": {
          "base_uri": "https://localhost:8080/",
          "height": 81
        },
        "id": "lbmX98ovPy2d",
        "outputId": "2381cfb1-19f8-4f1a-927f-d0fcc3730ca1",
        "vscode": {
          "languageId": "python"
        }
      },
      "outputs": [
        {
          "data": {
            "text/html": [
              "\n",
              "  <div id=\"df-1e24efe5-f655-4740-9b27-79f5f4549cc3\">\n",
              "    <div class=\"colab-df-container\">\n",
              "      <div>\n",
              "<style scoped>\n",
              "    .dataframe tbody tr th:only-of-type {\n",
              "        vertical-align: middle;\n",
              "    }\n",
              "\n",
              "    .dataframe tbody tr th {\n",
              "        vertical-align: top;\n",
              "    }\n",
              "\n",
              "    .dataframe thead th {\n",
              "        text-align: right;\n",
              "    }\n",
              "</style>\n",
              "<table border=\"1\" class=\"dataframe\">\n",
              "  <thead>\n",
              "    <tr style=\"text-align: right;\">\n",
              "      <th></th>\n",
              "      <th>memory.total [MiB]</th>\n",
              "      <th>memory.used [MiB]</th>\n",
              "    </tr>\n",
              "  </thead>\n",
              "  <tbody>\n",
              "    <tr>\n",
              "      <th>1</th>\n",
              "      <td>15109 MiB</td>\n",
              "      <td>1952 MiB</td>\n",
              "    </tr>\n",
              "  </tbody>\n",
              "</table>\n",
              "</div>\n",
              "      <button class=\"colab-df-convert\" onclick=\"convertToInteractive('df-1e24efe5-f655-4740-9b27-79f5f4549cc3')\"\n",
              "              title=\"Convert this dataframe to an interactive table.\"\n",
              "              style=\"display:none;\">\n",
              "        \n",
              "  <svg xmlns=\"http://www.w3.org/2000/svg\" height=\"24px\"viewBox=\"0 0 24 24\"\n",
              "       width=\"24px\">\n",
              "    <path d=\"M0 0h24v24H0V0z\" fill=\"none\"/>\n",
              "    <path d=\"M18.56 5.44l.94 2.06.94-2.06 2.06-.94-2.06-.94-.94-2.06-.94 2.06-2.06.94zm-11 1L8.5 8.5l.94-2.06 2.06-.94-2.06-.94L8.5 2.5l-.94 2.06-2.06.94zm10 10l.94 2.06.94-2.06 2.06-.94-2.06-.94-.94-2.06-.94 2.06-2.06.94z\"/><path d=\"M17.41 7.96l-1.37-1.37c-.4-.4-.92-.59-1.43-.59-.52 0-1.04.2-1.43.59L10.3 9.45l-7.72 7.72c-.78.78-.78 2.05 0 2.83L4 21.41c.39.39.9.59 1.41.59.51 0 1.02-.2 1.41-.59l7.78-7.78 2.81-2.81c.8-.78.8-2.07 0-2.86zM5.41 20L4 18.59l7.72-7.72 1.47 1.35L5.41 20z\"/>\n",
              "  </svg>\n",
              "      </button>\n",
              "      \n",
              "  <style>\n",
              "    .colab-df-container {\n",
              "      display:flex;\n",
              "      flex-wrap:wrap;\n",
              "      gap: 12px;\n",
              "    }\n",
              "\n",
              "    .colab-df-convert {\n",
              "      background-color: #E8F0FE;\n",
              "      border: none;\n",
              "      border-radius: 50%;\n",
              "      cursor: pointer;\n",
              "      display: none;\n",
              "      fill: #1967D2;\n",
              "      height: 32px;\n",
              "      padding: 0 0 0 0;\n",
              "      width: 32px;\n",
              "    }\n",
              "\n",
              "    .colab-df-convert:hover {\n",
              "      background-color: #E2EBFA;\n",
              "      box-shadow: 0px 1px 2px rgba(60, 64, 67, 0.3), 0px 1px 3px 1px rgba(60, 64, 67, 0.15);\n",
              "      fill: #174EA6;\n",
              "    }\n",
              "\n",
              "    [theme=dark] .colab-df-convert {\n",
              "      background-color: #3B4455;\n",
              "      fill: #D2E3FC;\n",
              "    }\n",
              "\n",
              "    [theme=dark] .colab-df-convert:hover {\n",
              "      background-color: #434B5C;\n",
              "      box-shadow: 0px 1px 3px 1px rgba(0, 0, 0, 0.15);\n",
              "      filter: drop-shadow(0px 1px 2px rgba(0, 0, 0, 0.3));\n",
              "      fill: #FFFFFF;\n",
              "    }\n",
              "  </style>\n",
              "\n",
              "      <script>\n",
              "        const buttonEl =\n",
              "          document.querySelector('#df-1e24efe5-f655-4740-9b27-79f5f4549cc3 button.colab-df-convert');\n",
              "        buttonEl.style.display =\n",
              "          google.colab.kernel.accessAllowed ? 'block' : 'none';\n",
              "\n",
              "        async function convertToInteractive(key) {\n",
              "          const element = document.querySelector('#df-1e24efe5-f655-4740-9b27-79f5f4549cc3');\n",
              "          const dataTable =\n",
              "            await google.colab.kernel.invokeFunction('convertToInteractive',\n",
              "                                                     [key], {});\n",
              "          if (!dataTable) return;\n",
              "\n",
              "          const docLinkHtml = 'Like what you see? Visit the ' +\n",
              "            '<a target=\"_blank\" href=https://colab.research.google.com/notebooks/data_table.ipynb>data table notebook</a>'\n",
              "            + ' to learn more about interactive tables.';\n",
              "          element.innerHTML = '';\n",
              "          dataTable['output_type'] = 'display_data';\n",
              "          await google.colab.output.renderOutput(dataTable, element);\n",
              "          const docLink = document.createElement('div');\n",
              "          docLink.innerHTML = docLinkHtml;\n",
              "          element.appendChild(docLink);\n",
              "        }\n",
              "      </script>\n",
              "    </div>\n",
              "  </div>\n",
              "  "
            ],
            "text/plain": [
              "0 memory.total [MiB]  memory.used [MiB]\n",
              "1          15109 MiB           1952 MiB"
            ]
          },
          "execution_count": 19,
          "metadata": {},
          "output_type": "execute_result"
        }
      ],
      "source": [
        "check_gpu_mem()"
      ]
    },
    {
      "cell_type": "markdown",
      "metadata": {
        "id": "aRp4O7D295d_"
      },
      "source": [
        "### 4.2. Splitting off a Validation Set\n"
      ]
    },
    {
      "cell_type": "markdown",
      "metadata": {
        "id": "qu0ao7p8rb06"
      },
      "source": [
        "This dataset already has a train / test split, but we're going to further divide up our training set to use 90% for training and 10% for *validation*. This validation set will help us detect over-fitting during the training process."
      ]
    },
    {
      "cell_type": "code",
      "execution_count": null,
      "metadata": {
        "colab": {
          "base_uri": "https://localhost:8080/"
        },
        "id": "GEgLpFVlo1Z-",
        "outputId": "86a9acaa-8fd9-463e-8699-2744d02ef9b0",
        "vscode": {
          "languageId": "python"
        }
      },
      "outputs": [
        {
          "name": "stdout",
          "output_type": "stream",
          "text": [
            "10,182 training samples\n",
            "1,132 validation samples\n"
          ]
        }
      ],
      "source": [
        "from torch.utils.data import TensorDataset, random_split\n",
        "\n",
        "# Combine the training inputs into a TensorDataset.\n",
        "dataset = TensorDataset(train_input_ids, train_attention_masks, train_labels)\n",
        "\n",
        "# Create a 90-10 train-validation split.\n",
        "\n",
        "# Calculate the number of samples to include in each set.\n",
        "train_size = int(0.9 * len(dataset))\n",
        "val_size = len(dataset) - train_size\n",
        "\n",
        "# Divide the dataset by randomly selecting samples.\n",
        "train_dataset, val_dataset = random_split(dataset, [train_size, val_size])\n",
        "\n",
        "print('{:>5,} training samples'.format(train_size))\n",
        "print('{:>5,} validation samples'.format(val_size))"
      ]
    },
    {
      "cell_type": "markdown",
      "metadata": {
        "id": "ejHQThm_uVnB"
      },
      "source": [
        "### 4.3. Batch Size & DataLoaders"
      ]
    },
    {
      "cell_type": "markdown",
      "metadata": {
        "id": "dD9i6Z2pG-sN"
      },
      "source": [
        "We'll also create an iterator for our dataset using the torch DataLoader class. This helps save on memory during training because, unlike a for loop, with an iterator the entire dataset does not need to be loaded into memory.\n",
        "\n",
        "This is also the point at which we must specify our **batch size**, since this is integral to the data loaders."
      ]
    },
    {
      "cell_type": "code",
      "execution_count": null,
      "metadata": {
        "id": "XGUqOCtgqGhP",
        "vscode": {
          "languageId": "python"
        }
      },
      "outputs": [],
      "source": [
        "from torch.utils.data import DataLoader, RandomSampler, SequentialSampler\n",
        "\n",
        "# The DataLoader needs to know our batch size for training, so we specify it \n",
        "# here. For fine-tuning BERT on a specific task, the authors recommend a batch \n",
        "# size of 16 or 32.\n",
        "batch_size = 16\n",
        "\n",
        "# Create the DataLoaders for our training and validation sets.\n",
        "# We'll take training samples in random order. \n",
        "train_dataloader = DataLoader(\n",
        "            train_dataset,  # The training samples.\n",
        "            sampler = RandomSampler(train_dataset), # Select batches randomly\n",
        "            batch_size = batch_size # Trains with this batch size.\n",
        "        )\n",
        "\n",
        "# For validation the order doesn't matter, so we'll just read them sequentially.\n",
        "validation_dataloader = DataLoader(\n",
        "            val_dataset, # The validation samples.\n",
        "            sampler = SequentialSampler(val_dataset), # Pull out batches sequentially.\n",
        "            batch_size = batch_size # Evaluate with this batch size.\n",
        "        )"
      ]
    },
    {
      "cell_type": "markdown",
      "metadata": {
        "id": "qRWT-D4U_Pvx"
      },
      "source": [
        "### 4.4. Optimizer\n"
      ]
    },
    {
      "cell_type": "markdown",
      "metadata": {
        "id": "8o-VEBobKwHk"
      },
      "source": [
        "Our `model` object handles the execution of a forward pass, and the calculation of gradients during training. \n",
        "\n",
        "The actual updates to the model's weights, however, are performed by an Optimizer object. Here, we create that object and give it a reference to our model's parameters, as well as set some of our training hyperparameters.\n",
        "\n",
        "For the purposes of fine-tuning, the authors recommend choosing from the following values:\n",
        "- Batch size: 16, 32 \n",
        "- Learning rate (Adam): 5e-5, 3e-5, 2e-5  (We'll use 2e-5).\n",
        "- Number of epochs: 2, 3, 4  (We'll use 4). This is a parameter to the \"learning rate scheduler\" in the section.\n",
        "\n",
        "The epsilon parameter `eps = 1e-8` is \"a very small number to prevent any division by zero in the implementation\" (from [here](https://machinelearningmastery.com/adam-optimization-algorithm-for-deep-learning/)).\n",
        "\n",
        "You can find the creation of the AdamW optimizer in `run_glue.py` [here](https://github.com/huggingface/transformers/blob/5bfcd0485ece086ebcbed2d008813037968a9e58/examples/run_glue.py#L109)."
      ]
    },
    {
      "cell_type": "code",
      "execution_count": null,
      "metadata": {
        "colab": {
          "base_uri": "https://localhost:8080/"
        },
        "id": "GLs72DuMODJO",
        "outputId": "8685f088-b89e-47cf-9191-38b99e0fada3",
        "vscode": {
          "languageId": "python"
        }
      },
      "outputs": [
        {
          "name": "stderr",
          "output_type": "stream",
          "text": [
            "/usr/local/lib/python3.7/dist-packages/transformers/optimization.py:309: FutureWarning: This implementation of AdamW is deprecated and will be removed in a future version. Use thePyTorch implementation torch.optim.AdamW instead, or set `no_deprecation_warning=True` to disable this warning\n",
            "  FutureWarning,\n"
          ]
        }
      ],
      "source": [
        "# Note: AdamW is a class from the huggingface library (as opposed to pytorch) \n",
        "# I believe the 'W' stands for 'Weight Decay fix\"\n",
        "optimizer = AdamW(model.parameters(),\n",
        "                  lr = 2e-5, # args.learning_rate - default is 5e-5\n",
        "                  eps = 1e-8 # args.adam_epsilon  - default is 1e-8.\n",
        "                )"
      ]
    },
    {
      "cell_type": "markdown",
      "metadata": {
        "id": "_iaG0A5quuqz"
      },
      "source": [
        "### 4.5. Epochs & Learning Rate Scheduler"
      ]
    },
    {
      "cell_type": "markdown",
      "metadata": {
        "id": "JGeSUdv_wDgF"
      },
      "source": [
        "The learning rate scheduler is responsible for updating the learning rate over the course of the training. Generally speaking, you want the learning rate to gradually get smaller and smaller so that training makes gradually finer adjustments to the weights. \n",
        "\n",
        "This decay needs to happen *across all of the training epochs*, so this is where we need to specify the number of epochs we want to train for. "
      ]
    },
    {
      "cell_type": "code",
      "execution_count": null,
      "metadata": {
        "id": "-p0upAhhRiIx",
        "vscode": {
          "languageId": "python"
        }
      },
      "outputs": [],
      "source": [
        "from transformers import get_linear_schedule_with_warmup\n",
        "\n",
        "# Number of training epochs (authors recommend between 2 and 4)\n",
        "epochs = 4\n",
        "\n",
        "# Total number of training steps is number of batches * number of epochs.\n",
        "total_steps = len(train_dataloader) * epochs\n",
        "\n",
        "# Create the learning rate scheduler.\n",
        "scheduler = get_linear_schedule_with_warmup(optimizer, \n",
        "                                            num_warmup_steps = 0, # Default value in run_glue.py\n",
        "                                            num_training_steps = total_steps)"
      ]
    },
    {
      "cell_type": "markdown",
      "metadata": {
        "id": "_QXZhFb4LnV5"
      },
      "source": [
        "**Helper Functions**\n",
        "\n",
        "In each pass, we will train the model on our full training set, and then measure it's accuracy on our 10% holdout validation set. We'll define a helper function for calculating accuracy on the *validation* set."
      ]
    },
    {
      "cell_type": "code",
      "execution_count": null,
      "metadata": {
        "id": "9cQNvaZ9bnyy",
        "vscode": {
          "languageId": "python"
        }
      },
      "outputs": [],
      "source": [
        "import numpy as np\n",
        "\n",
        "# Function to calculate the accuracy of our predictions vs labels\n",
        "def flat_accuracy(preds, labels):\n",
        "    pred_flat = np.argmax(preds, axis=1).flatten()\n",
        "    labels_flat = labels.flatten()\n",
        "    return np.sum(pred_flat == labels_flat) / len(labels_flat)"
      ]
    },
    {
      "cell_type": "markdown",
      "metadata": {
        "id": "KNhRtWPXH9C3"
      },
      "source": [
        "Helper function for formatting elapsed times.\n"
      ]
    },
    {
      "cell_type": "code",
      "execution_count": null,
      "metadata": {
        "id": "gpt6tR83keZD",
        "vscode": {
          "languageId": "python"
        }
      },
      "outputs": [],
      "source": [
        "import time\n",
        "import datetime\n",
        "\n",
        "def format_time(elapsed):\n",
        "    '''\n",
        "    Takes a time in seconds and returns a string hh:mm:ss\n",
        "    '''\n",
        "    # Round to the nearest second.\n",
        "    elapsed_rounded = int(round((elapsed)))\n",
        "    \n",
        "    # Format as hh:mm:ss\n",
        "    return str(datetime.timedelta(seconds=elapsed_rounded))\n"
      ]
    },
    {
      "cell_type": "markdown",
      "metadata": {
        "id": "RqfmWwUR_Sox"
      },
      "source": [
        "### 4.5. Training Loop"
      ]
    },
    {
      "cell_type": "markdown",
      "metadata": {
        "id": "cfNIhN19te3N"
      },
      "source": [
        "We're ready to kick off the training!\n",
        "\n",
        "For addressing our **GPU memory issue**, I've added some calls to `check_gpu_mem` during the training process. "
      ]
    },
    {
      "cell_type": "code",
      "execution_count": null,
      "metadata": {
        "colab": {
          "base_uri": "https://localhost:8080/"
        },
        "id": "WiDKq4cLQG6H",
        "outputId": "945019f2-4075-4657-b6d1-9b1b4cfb94bd",
        "vscode": {
          "languageId": "python"
        }
      },
      "outputs": [
        {
          "name": "stdout",
          "output_type": "stream",
          "text": [
            "\n",
            "======== Epoch 1 / 4 ========\n",
            "Training...\n",
            "\n",
            "  Step 0 GPU Memory Use:\n",
            "    Before forward-pass:  1952 MiB\n",
            "     After forward-pass:  7610 MiB\n",
            "    After gradient calculation:  7938 MiB\n",
            "\n",
            "  Step 1 GPU Memory Use:\n",
            "    Before forward-pass:  8208 MiB\n",
            "     After forward-pass:  8998 MiB\n",
            "    After gradient calculation:  9210 MiB\n",
            "  Batch    50  of    637.    Elapsed: 0:00:40.\n",
            "  Batch   100  of    637.    Elapsed: 0:01:21.\n",
            "  Batch   150  of    637.    Elapsed: 0:02:04.\n",
            "  Batch   200  of    637.    Elapsed: 0:02:47.\n",
            "  Batch   250  of    637.    Elapsed: 0:03:31.\n",
            "  Batch   300  of    637.    Elapsed: 0:04:16.\n",
            "  Batch   350  of    637.    Elapsed: 0:05:02.\n",
            "  Batch   400  of    637.    Elapsed: 0:05:48.\n",
            "  Batch   450  of    637.    Elapsed: 0:06:34.\n",
            "  Batch   500  of    637.    Elapsed: 0:07:20.\n",
            "  Batch   550  of    637.    Elapsed: 0:08:06.\n",
            "  Batch   600  of    637.    Elapsed: 0:08:52.\n",
            "\n",
            "  Average training loss: 1.56\n",
            "  Training epcoh took: 0:09:25\n",
            "\n",
            "Running Validation...\n",
            "  Accuracy: 0.70\n",
            "  Validation Loss: 1.05\n",
            "  Validation took: 0:00:26\n",
            "\n",
            "======== Epoch 2 / 4 ========\n",
            "Training...\n",
            "\n",
            "  Step 0 GPU Memory Use:\n",
            "    Before forward-pass:  9210 MiB\n",
            "     After forward-pass:  9210 MiB\n",
            "    After gradient calculation:  9210 MiB\n",
            "\n",
            "  Step 1 GPU Memory Use:\n",
            "    Before forward-pass:  9210 MiB\n",
            "     After forward-pass:  9210 MiB\n",
            "    After gradient calculation:  9210 MiB\n",
            "  Batch    50  of    637.    Elapsed: 0:00:46.\n",
            "  Batch   100  of    637.    Elapsed: 0:01:32.\n",
            "  Batch   150  of    637.    Elapsed: 0:02:18.\n",
            "  Batch   200  of    637.    Elapsed: 0:03:04.\n",
            "  Batch   250  of    637.    Elapsed: 0:03:50.\n",
            "  Batch   300  of    637.    Elapsed: 0:04:37.\n",
            "  Batch   350  of    637.    Elapsed: 0:05:23.\n",
            "  Batch   400  of    637.    Elapsed: 0:06:09.\n",
            "  Batch   450  of    637.    Elapsed: 0:06:55.\n",
            "  Batch   500  of    637.    Elapsed: 0:07:41.\n",
            "  Batch   550  of    637.    Elapsed: 0:08:27.\n",
            "  Batch   600  of    637.    Elapsed: 0:09:13.\n",
            "\n",
            "  Average training loss: 0.80\n",
            "  Training epcoh took: 0:09:47\n",
            "\n",
            "Running Validation...\n",
            "  Accuracy: 0.74\n",
            "  Validation Loss: 0.93\n",
            "  Validation took: 0:00:26\n",
            "\n",
            "======== Epoch 3 / 4 ========\n",
            "Training...\n",
            "\n",
            "  Step 0 GPU Memory Use:\n",
            "    Before forward-pass:  9210 MiB\n",
            "     After forward-pass:  9210 MiB\n",
            "    After gradient calculation:  9210 MiB\n",
            "\n",
            "  Step 1 GPU Memory Use:\n",
            "    Before forward-pass:  9210 MiB\n",
            "     After forward-pass:  9210 MiB\n",
            "    After gradient calculation:  9210 MiB\n",
            "  Batch    50  of    637.    Elapsed: 0:00:47.\n",
            "  Batch   100  of    637.    Elapsed: 0:01:33.\n",
            "  Batch   150  of    637.    Elapsed: 0:02:19.\n",
            "  Batch   200  of    637.    Elapsed: 0:03:05.\n",
            "  Batch   250  of    637.    Elapsed: 0:03:51.\n",
            "  Batch   300  of    637.    Elapsed: 0:04:37.\n",
            "  Batch   350  of    637.    Elapsed: 0:05:23.\n",
            "  Batch   400  of    637.    Elapsed: 0:06:09.\n",
            "  Batch   450  of    637.    Elapsed: 0:06:55.\n",
            "  Batch   500  of    637.    Elapsed: 0:07:41.\n",
            "  Batch   550  of    637.    Elapsed: 0:08:28.\n",
            "  Batch   600  of    637.    Elapsed: 0:09:14.\n",
            "\n",
            "  Average training loss: 0.56\n",
            "  Training epcoh took: 0:09:47\n",
            "\n",
            "Running Validation...\n",
            "  Accuracy: 0.75\n",
            "  Validation Loss: 0.89\n",
            "  Validation took: 0:00:26\n",
            "\n",
            "======== Epoch 4 / 4 ========\n",
            "Training...\n",
            "\n",
            "  Step 0 GPU Memory Use:\n",
            "    Before forward-pass:  9210 MiB\n",
            "     After forward-pass:  9210 MiB\n",
            "    After gradient calculation:  9210 MiB\n",
            "\n",
            "  Step 1 GPU Memory Use:\n",
            "    Before forward-pass:  9210 MiB\n",
            "     After forward-pass:  9210 MiB\n",
            "    After gradient calculation:  9210 MiB\n",
            "  Batch    50  of    637.    Elapsed: 0:00:46.\n",
            "  Batch   100  of    637.    Elapsed: 0:01:33.\n",
            "  Batch   150  of    637.    Elapsed: 0:02:19.\n",
            "  Batch   200  of    637.    Elapsed: 0:03:05.\n",
            "  Batch   250  of    637.    Elapsed: 0:03:51.\n",
            "  Batch   300  of    637.    Elapsed: 0:04:37.\n",
            "  Batch   350  of    637.    Elapsed: 0:05:23.\n",
            "  Batch   400  of    637.    Elapsed: 0:06:09.\n",
            "  Batch   450  of    637.    Elapsed: 0:06:55.\n",
            "  Batch   500  of    637.    Elapsed: 0:07:41.\n",
            "  Batch   550  of    637.    Elapsed: 0:08:27.\n",
            "  Batch   600  of    637.    Elapsed: 0:09:13.\n",
            "\n",
            "  Average training loss: 0.42\n",
            "  Training epcoh took: 0:09:46\n",
            "\n",
            "Running Validation...\n",
            "  Accuracy: 0.77\n",
            "  Validation Loss: 0.87\n",
            "  Validation took: 0:00:26\n",
            "\n",
            "Training complete!\n"
          ]
        }
      ],
      "source": [
        "import random\n",
        "import numpy as np\n",
        "\n",
        "# This training code is based on the `run_glue.py` script here:\n",
        "# https://github.com/huggingface/transformers/blob/5bfcd0485ece086ebcbed2d008813037968a9e58/examples/run_glue.py#L128\n",
        "\n",
        "# Set the seed value all over the place to make this reproducible.\n",
        "seed_val = 42\n",
        "\n",
        "random.seed(seed_val)\n",
        "np.random.seed(seed_val)\n",
        "torch.manual_seed(seed_val)\n",
        "torch.cuda.manual_seed_all(seed_val)\n",
        "\n",
        "# We'll store a number of quantities such as training and validation loss, \n",
        "# validation accuracy, and timings.\n",
        "training_stats = []\n",
        "\n",
        "# For each epoch...\n",
        "for epoch_i in range(0, epochs):\n",
        "    \n",
        "    # ========================================\n",
        "    #               Training\n",
        "    # ========================================\n",
        "    \n",
        "    # Perform one full pass over the training set.\n",
        "\n",
        "    print(\"\")\n",
        "    print('======== Epoch {:} / {:} ========'.format(epoch_i + 1, epochs))\n",
        "    print('Training...')\n",
        "\n",
        "    # Measure how long the training epoch takes.\n",
        "    t0 = time.time()\n",
        "\n",
        "    # Reset the total loss for this epoch.\n",
        "    total_train_loss = 0\n",
        "\n",
        "    # Put the model into training mode. Don't be mislead--the call to \n",
        "    # `train` just changes the *mode*, it doesn't *perform* the training.\n",
        "    # `dropout` and `batchnorm` layers behave differently during training\n",
        "    # vs. test (source: https://stackoverflow.com/questions/51433378/what-does-model-train-do-in-pytorch)\n",
        "    model.train()\n",
        "\n",
        "    # For each batch of training data...\n",
        "    for step, batch in enumerate(train_dataloader):\n",
        "\n",
        "        # Progress update every 50 batches.\n",
        "        if step % 50 == 0 and not step == 0:\n",
        "            # Calculate elapsed time in minutes.\n",
        "            elapsed = format_time(time.time() - t0)\n",
        "            \n",
        "            # Report progress.\n",
        "            print('  Batch {:>5,}  of  {:>5,}.    Elapsed: {:}.'.format(step, len(train_dataloader), elapsed))\n",
        "\n",
        "        # Unpack this training batch from our dataloader. \n",
        "        #\n",
        "        # As we unpack the batch, we'll also copy each tensor to the GPU using the \n",
        "        # `to` method.\n",
        "        #\n",
        "        # `batch` contains three pytorch tensors:\n",
        "        #   [0]: input ids \n",
        "        #   [1]: attention masks\n",
        "        #   [2]: labels \n",
        "        b_input_ids = batch[0].to(device)\n",
        "        b_input_mask = batch[1].to(device)\n",
        "        b_labels = batch[2].to(device)\n",
        "\n",
        "        # Check GPU memory for the first couple steps.\n",
        "        if step < 2:\n",
        "            print('\\n  Step {:} GPU Memory Use:'.format(step))\n",
        "            df = check_gpu_mem()    \n",
        "            print('    Before forward-pass: {:}'.format(df.iloc[0, 1]))\n",
        "\n",
        "        # Always clear any previously calculated gradients before performing a\n",
        "        # backward pass. PyTorch doesn't do this automatically because \n",
        "        # accumulating the gradients is \"convenient while training RNNs\". \n",
        "        # (source: https://stackoverflow.com/questions/48001598/why-do-we-need-to-call-zero-grad-in-pytorch)\n",
        "        model.zero_grad()        \n",
        "\n",
        "        # Perform a forward pass (evaluate the model on this training batch).\n",
        "        # The documentation for this `model` function is here: \n",
        "        # https://huggingface.co/transformers/v2.2.0/model_doc/bert.html#transformers.BertForSequenceClassification\n",
        "        # It returns different numbers of parameters depending on what arguments\n",
        "        # arge given and what flags are set. For our useage here, it returns\n",
        "        # the loss (because we provided labels) and the \"logits\"--the model\n",
        "        # outputs prior to activation.\n",
        "        result = model(b_input_ids, \n",
        "                       token_type_ids = None, \n",
        "                       attention_mask = b_input_mask, \n",
        "                       labels = b_labels,\n",
        "                       return_dict = True)\n",
        "        \n",
        "        loss = result.loss\n",
        "\n",
        "        # Report GPU memory use for the first couple steps.\n",
        "        if step < 2:\n",
        "            df = check_gpu_mem()    \n",
        "            print('     After forward-pass: {:}'.format(df.iloc[0, 1]))\n",
        "\n",
        "        # Accumulate the training loss over all of the batches so that we can\n",
        "        # calculate the average loss at the end. `loss` is a Tensor containing a\n",
        "        # single value; the `.item()` function just returns the Python value \n",
        "        # from the tensor.\n",
        "        total_train_loss += loss.item()\n",
        "\n",
        "        # Perform a backward pass to calculate the gradients.\n",
        "        loss.backward()\n",
        "\n",
        "        # Report GPU memory use for the first couple steps.\n",
        "        if step < 2:\n",
        "            df = check_gpu_mem()    \n",
        "            print('    After gradient calculation: {:}'.format(df.iloc[0, 1]))\n",
        "\n",
        "        # Clip the norm of the gradients to 1.0.\n",
        "        # This is to help prevent the \"exploding gradients\" problem.\n",
        "        torch.nn.utils.clip_grad_norm_(model.parameters(), 1.0)\n",
        "\n",
        "        # Update parameters and take a step using the computed gradient.\n",
        "        # The optimizer dictates the \"update rule\"--how the parameters are\n",
        "        # modified based on their gradients, the learning rate, etc.\n",
        "        optimizer.step()\n",
        "\n",
        "        # Update the learning rate.\n",
        "        scheduler.step()\n",
        "\n",
        "    # Calculate the average loss over all of the batches.\n",
        "    avg_train_loss = total_train_loss / len(train_dataloader)            \n",
        "    \n",
        "    # Measure how long this epoch took.\n",
        "    training_time = format_time(time.time() - t0)\n",
        "\n",
        "    print(\"\")\n",
        "    print(\"  Average training loss: {0:.2f}\".format(avg_train_loss))\n",
        "    print(\"  Training epcoh took: {:}\".format(training_time))\n",
        "        \n",
        "    # ========================================\n",
        "    #               Validation\n",
        "    # ========================================\n",
        "    # After the completion of each training epoch, measure our performance on\n",
        "    # our validation set.\n",
        "\n",
        "    print(\"\")\n",
        "    print(\"Running Validation...\")\n",
        "\n",
        "    t0 = time.time()\n",
        "\n",
        "    # Put the model in evaluation mode--the dropout layers behave differently\n",
        "    # during evaluation.\n",
        "    model.eval()\n",
        "\n",
        "    # Tracking variables \n",
        "    total_eval_accuracy = 0\n",
        "    total_eval_loss = 0\n",
        "    nb_eval_steps = 0\n",
        "\n",
        "    # Evaluate data for one epoch\n",
        "    for batch in validation_dataloader:\n",
        "        \n",
        "        # Unpack this training batch from our dataloader. \n",
        "        #\n",
        "        # As we unpack the batch, we'll also copy each tensor to the GPU using \n",
        "        # the `to` method.\n",
        "        #\n",
        "        # `batch` contains three pytorch tensors:\n",
        "        #   [0]: input ids \n",
        "        #   [1]: attention masks\n",
        "        #   [2]: labels \n",
        "        b_input_ids = batch[0].to(device)\n",
        "        b_input_mask = batch[1].to(device)\n",
        "        b_labels = batch[2].to(device)\n",
        "        \n",
        "        # Tell pytorch not to bother with constructing the compute graph during\n",
        "        # the forward pass, since this is only needed for backprop (training).\n",
        "        with torch.no_grad():        \n",
        "\n",
        "            # Forward pass, calculate logit predictions.\n",
        "            # token_type_ids is the same as the \"segment ids\", which \n",
        "            # differentiates sentence 1 and 2 in 2-sentence tasks.\n",
        "            # The documentation for this `model` function is here: \n",
        "            # https://huggingface.co/transformers/v2.2.0/model_doc/bert.html#transformers.BertForSequenceClassification\n",
        "            # Get the \"logits\" output by the model. The \"logits\" are the output\n",
        "            # values prior to applying an activation function like the softmax.\n",
        "            result = model(b_input_ids, \n",
        "                           token_type_ids = None, \n",
        "                           attention_mask = b_input_mask,\n",
        "                           labels = b_labels,\n",
        "                           return_dict = True)\n",
        "            \n",
        "            loss = result.loss\n",
        "            logits = result.logits\n",
        "            \n",
        "        # Accumulate the validation loss.\n",
        "        total_eval_loss += loss.item()\n",
        "\n",
        "        # Move logits and labels to CPU\n",
        "        logits = logits.detach().cpu().numpy()\n",
        "        label_ids = b_labels.to('cpu').numpy()\n",
        "\n",
        "        # Calculate the accuracy for this batch of test sentences, and\n",
        "        # accumulate it over all batches.\n",
        "        total_eval_accuracy += flat_accuracy(logits, label_ids)\n",
        "        \n",
        "\n",
        "    # Report the final accuracy for this validation run.\n",
        "    avg_val_accuracy = total_eval_accuracy / len(validation_dataloader)\n",
        "    print(\"  Accuracy: {0:.2f}\".format(avg_val_accuracy))\n",
        "\n",
        "    # Calculate the average loss over all of the batches.\n",
        "    avg_val_loss = total_eval_loss / len(validation_dataloader)\n",
        "    \n",
        "    validation_time = format_time(time.time() - t0)\n",
        "    print(\"  Validation Loss: {0:.2f}\".format(avg_val_loss))\n",
        "    print(\"  Validation took: {:}\".format(validation_time))\n",
        "\n",
        "    # Record all statistics from this epoch.\n",
        "    training_stats.append(\n",
        "        {\n",
        "            'epoch': epoch_i + 1,\n",
        "            'Training Loss': avg_train_loss,\n",
        "            'Valid. Loss': avg_val_loss,\n",
        "            'Valid. Accur.': avg_val_accuracy,\n",
        "            'Training Time': training_time,\n",
        "            'Validation Time': validation_time\n",
        "        }\n",
        "    )\n",
        "\n",
        "print(\"\")\n",
        "print(\"Training complete!\")"
      ]
    },
    {
      "cell_type": "markdown",
      "metadata": {
        "id": "VQTvJ1vRP7u4"
      },
      "source": [
        "**Check for Over-Fitting**\n",
        "\n",
        "Let's view the summary of the training process.\n",
        "\n",
        "Training accuracy should always go up, or at least remain constant, with each additional training epoch. \n",
        "\n",
        "However, if we see that the validation accuracy is *decreasing*, it tells us that we are training too long, and our model is over-fitting. "
      ]
    },
    {
      "cell_type": "code",
      "execution_count": null,
      "metadata": {
        "colab": {
          "base_uri": "https://localhost:8080/"
        },
        "id": "6O_NbXFGMukX",
        "outputId": "eea34237-6e03-4d1a-fb42-09330ed57ea8",
        "vscode": {
          "languageId": "python"
        }
      },
      "outputs": [
        {
          "data": {
            "text/html": [
              "\n",
              "  <div id=\"df-6311ad08-32e1-4673-9a4d-2fb71c1420a6\">\n",
              "    <div class=\"colab-df-container\">\n",
              "      <div>\n",
              "<style scoped>\n",
              "    .dataframe tbody tr th:only-of-type {\n",
              "        vertical-align: middle;\n",
              "    }\n",
              "\n",
              "    .dataframe tbody tr th {\n",
              "        vertical-align: top;\n",
              "    }\n",
              "\n",
              "    .dataframe thead th {\n",
              "        text-align: right;\n",
              "    }\n",
              "</style>\n",
              "<table border=\"1\" class=\"dataframe\">\n",
              "  <thead>\n",
              "    <tr style=\"text-align: right;\">\n",
              "      <th></th>\n",
              "      <th>Training Loss</th>\n",
              "      <th>Valid. Loss</th>\n",
              "      <th>Valid. Accur.</th>\n",
              "      <th>Training Time</th>\n",
              "      <th>Validation Time</th>\n",
              "    </tr>\n",
              "    <tr>\n",
              "      <th>epoch</th>\n",
              "      <th></th>\n",
              "      <th></th>\n",
              "      <th></th>\n",
              "      <th></th>\n",
              "      <th></th>\n",
              "    </tr>\n",
              "  </thead>\n",
              "  <tbody>\n",
              "    <tr>\n",
              "      <th>1</th>\n",
              "      <td>1.56</td>\n",
              "      <td>1.05</td>\n",
              "      <td>0.70</td>\n",
              "      <td>0:09:25</td>\n",
              "      <td>0:00:26</td>\n",
              "    </tr>\n",
              "    <tr>\n",
              "      <th>2</th>\n",
              "      <td>0.80</td>\n",
              "      <td>0.93</td>\n",
              "      <td>0.74</td>\n",
              "      <td>0:09:47</td>\n",
              "      <td>0:00:26</td>\n",
              "    </tr>\n",
              "    <tr>\n",
              "      <th>3</th>\n",
              "      <td>0.56</td>\n",
              "      <td>0.89</td>\n",
              "      <td>0.75</td>\n",
              "      <td>0:09:47</td>\n",
              "      <td>0:00:26</td>\n",
              "    </tr>\n",
              "    <tr>\n",
              "      <th>4</th>\n",
              "      <td>0.42</td>\n",
              "      <td>0.87</td>\n",
              "      <td>0.77</td>\n",
              "      <td>0:09:46</td>\n",
              "      <td>0:00:26</td>\n",
              "    </tr>\n",
              "  </tbody>\n",
              "</table>\n",
              "</div>\n",
              "      <button class=\"colab-df-convert\" onclick=\"convertToInteractive('df-6311ad08-32e1-4673-9a4d-2fb71c1420a6')\"\n",
              "              title=\"Convert this dataframe to an interactive table.\"\n",
              "              style=\"display:none;\">\n",
              "        \n",
              "  <svg xmlns=\"http://www.w3.org/2000/svg\" height=\"24px\"viewBox=\"0 0 24 24\"\n",
              "       width=\"24px\">\n",
              "    <path d=\"M0 0h24v24H0V0z\" fill=\"none\"/>\n",
              "    <path d=\"M18.56 5.44l.94 2.06.94-2.06 2.06-.94-2.06-.94-.94-2.06-.94 2.06-2.06.94zm-11 1L8.5 8.5l.94-2.06 2.06-.94-2.06-.94L8.5 2.5l-.94 2.06-2.06.94zm10 10l.94 2.06.94-2.06 2.06-.94-2.06-.94-.94-2.06-.94 2.06-2.06.94z\"/><path d=\"M17.41 7.96l-1.37-1.37c-.4-.4-.92-.59-1.43-.59-.52 0-1.04.2-1.43.59L10.3 9.45l-7.72 7.72c-.78.78-.78 2.05 0 2.83L4 21.41c.39.39.9.59 1.41.59.51 0 1.02-.2 1.41-.59l7.78-7.78 2.81-2.81c.8-.78.8-2.07 0-2.86zM5.41 20L4 18.59l7.72-7.72 1.47 1.35L5.41 20z\"/>\n",
              "  </svg>\n",
              "      </button>\n",
              "      \n",
              "  <style>\n",
              "    .colab-df-container {\n",
              "      display:flex;\n",
              "      flex-wrap:wrap;\n",
              "      gap: 12px;\n",
              "    }\n",
              "\n",
              "    .colab-df-convert {\n",
              "      background-color: #E8F0FE;\n",
              "      border: none;\n",
              "      border-radius: 50%;\n",
              "      cursor: pointer;\n",
              "      display: none;\n",
              "      fill: #1967D2;\n",
              "      height: 32px;\n",
              "      padding: 0 0 0 0;\n",
              "      width: 32px;\n",
              "    }\n",
              "\n",
              "    .colab-df-convert:hover {\n",
              "      background-color: #E2EBFA;\n",
              "      box-shadow: 0px 1px 2px rgba(60, 64, 67, 0.3), 0px 1px 3px 1px rgba(60, 64, 67, 0.15);\n",
              "      fill: #174EA6;\n",
              "    }\n",
              "\n",
              "    [theme=dark] .colab-df-convert {\n",
              "      background-color: #3B4455;\n",
              "      fill: #D2E3FC;\n",
              "    }\n",
              "\n",
              "    [theme=dark] .colab-df-convert:hover {\n",
              "      background-color: #434B5C;\n",
              "      box-shadow: 0px 1px 3px 1px rgba(0, 0, 0, 0.15);\n",
              "      filter: drop-shadow(0px 1px 2px rgba(0, 0, 0, 0.3));\n",
              "      fill: #FFFFFF;\n",
              "    }\n",
              "  </style>\n",
              "\n",
              "      <script>\n",
              "        const buttonEl =\n",
              "          document.querySelector('#df-6311ad08-32e1-4673-9a4d-2fb71c1420a6 button.colab-df-convert');\n",
              "        buttonEl.style.display =\n",
              "          google.colab.kernel.accessAllowed ? 'block' : 'none';\n",
              "\n",
              "        async function convertToInteractive(key) {\n",
              "          const element = document.querySelector('#df-6311ad08-32e1-4673-9a4d-2fb71c1420a6');\n",
              "          const dataTable =\n",
              "            await google.colab.kernel.invokeFunction('convertToInteractive',\n",
              "                                                     [key], {});\n",
              "          if (!dataTable) return;\n",
              "\n",
              "          const docLinkHtml = 'Like what you see? Visit the ' +\n",
              "            '<a target=\"_blank\" href=https://colab.research.google.com/notebooks/data_table.ipynb>data table notebook</a>'\n",
              "            + ' to learn more about interactive tables.';\n",
              "          element.innerHTML = '';\n",
              "          dataTable['output_type'] = 'display_data';\n",
              "          await google.colab.output.renderOutput(dataTable, element);\n",
              "          const docLink = document.createElement('div');\n",
              "          docLink.innerHTML = docLinkHtml;\n",
              "          element.appendChild(docLink);\n",
              "        }\n",
              "      </script>\n",
              "    </div>\n",
              "  </div>\n",
              "  "
            ],
            "text/plain": [
              "       Training Loss  Valid. Loss  Valid. Accur. Training Time Validation Time\n",
              "epoch                                                                         \n",
              "1               1.56         1.05           0.70       0:09:25         0:00:26\n",
              "2               0.80         0.93           0.74       0:09:47         0:00:26\n",
              "3               0.56         0.89           0.75       0:09:47         0:00:26\n",
              "4               0.42         0.87           0.77       0:09:46         0:00:26"
            ]
          },
          "execution_count": 27,
          "metadata": {},
          "output_type": "execute_result"
        }
      ],
      "source": [
        "import pandas as pd\n",
        "\n",
        "# Create a DataFrame from our training statistics.\n",
        "df_stats = pd.DataFrame(data=training_stats)\n",
        "\n",
        "# Use the 'epoch' as the row index.\n",
        "df_stats = df_stats.set_index('epoch')\n",
        "\n",
        "# A hack to force the column headers to wrap.\n",
        "#df = df.style.set_table_styles([dict(selector=\"th\",props=[('max-width', '50px')])])\n",
        "\n",
        "# Display floats with two decimal places.\n",
        "pd.set_option('precision', 2)\n",
        "\n",
        "# Display the table.\n",
        "df_stats"
      ]
    },
    {
      "cell_type": "markdown",
      "metadata": {
        "id": "wC64axhF0_aQ"
      },
      "source": [
        "Let's take a look at our training loss over all epochs:"
      ]
    },
    {
      "cell_type": "code",
      "execution_count": null,
      "metadata": {
        "colab": {
          "base_uri": "https://localhost:8080/"
        },
        "id": "kOx9lsfm0_aR",
        "outputId": "fd25ec72-3f76-477f-c2af-417574fe5498",
        "vscode": {
          "languageId": "python"
        }
      },
      "outputs": [
        {
          "data": {
            "image/png": "[encoded data removed]",
            "text/plain": [
              "<Figure size 864x432 with 1 Axes>"
            ]
          },
          "metadata": {},
          "output_type": "display_data"
        }
      ],
      "source": [
        "import matplotlib.pyplot as plt\n",
        "% matplotlib inline\n",
        "\n",
        "import seaborn as sns\n",
        "\n",
        "# Use plot styling from seaborn.\n",
        "sns.set(style='darkgrid')\n",
        "\n",
        "# Increase the plot size and font size.\n",
        "sns.set(font_scale=1.5)\n",
        "plt.rcParams[\"figure.figsize\"] = (12,6)\n",
        "\n",
        "# Plot the learning curve.\n",
        "plt.plot(df_stats['Training Loss'], 'b-o', label=\"Training\")\n",
        "plt.plot(df_stats['Valid. Loss'], 'g-o', label=\"Validation\")\n",
        "\n",
        "# Label the plot.\n",
        "plt.title(\"Training & Validation loss\")\n",
        "plt.xlabel(\"Epoch\")\n",
        "plt.ylabel(\"Loss\")\n",
        "plt.legend()\n",
        "plt.xticks([1, 2, 3, 4])\n",
        "\n",
        "plt.show()"
      ]
    },
    {
      "cell_type": "markdown",
      "metadata": {
        "id": "LqONpNsvA29f"
      },
      "source": [
        "We do appear to be over-fitting slightly in our fourth epoch, but not severely."
      ]
    },
    {
      "cell_type": "markdown",
      "metadata": {
        "id": "HDNPfN7qSfAY"
      },
      "source": [
        "# Part III - Performance & Analysis"
      ]
    },
    {
      "cell_type": "markdown",
      "metadata": {
        "id": "mkyubuJSOzg3"
      },
      "source": [
        "## S5. Performance On Test Set"
      ]
    },
    {
      "cell_type": "markdown",
      "metadata": {
        "id": "huAaDukC1Orh"
      },
      "source": [
        "### 5.1. Baseline Implementation"
      ]
    },
    {
      "cell_type": "markdown",
      "metadata": {
        "id": "TELGvAm56e0T"
      },
      "source": [
        "The below code is taken directly from the sci-kit learn example code for this dataset [here](https://scikit-learn.org/0.19/datasets/twenty_newsgroups.html). I've re-organized it a bit and added comments.  \n",
        "\n",
        "The quick summary:\n",
        "* It uses `tf-idf` for vectorization.\n",
        "* It uses `multinomial naive bayes` for classification.\n",
        "* F1 score: `0.683`   (on the test set)"
      ]
    },
    {
      "cell_type": "code",
      "execution_count": null,
      "metadata": {
        "colab": {
          "base_uri": "https://localhost:8080/"
        },
        "id": "bcGu2FTQ1S7w",
        "outputId": "04855953-aa5c-4e46-e60e-a37e32760c24",
        "vscode": {
          "languageId": "python"
        }
      },
      "outputs": [
        {
          "name": "stdout",
          "output_type": "stream",
          "text": [
            "Analyzing dataset for tf-idf...\n",
            "\n",
            "Vectorizing the text samples...\n",
            "\n",
            "11,314 train samples with 101,631 features.\n",
            " 7,532  test samples with 101,631 features.\n"
          ]
        }
      ],
      "source": [
        "from sklearn.feature_extraction.text import TfidfVectorizer\n",
        "from sklearn.naive_bayes import MultinomialNB\n",
        "from sklearn import metrics\n",
        "\n",
        "# Rename our dataset variables to be consistent with the example.\n",
        "newsgroups_train = train\n",
        "newsgroups_test = test\n",
        "\n",
        "# Vectorize the text using tf-idf.\n",
        "vectorizer = TfidfVectorizer()\n",
        "\n",
        "# Before we can vectorize the text, the tf-idf model needs\n",
        "# to analyze the dataset to build a vocabulary and word counts.\n",
        "print('Analyzing dataset for tf-idf...\\n')\n",
        "vectorizer.fit(newsgroups_train.data)\n",
        "\n",
        "# Convert the text samples into tf-idf vectors.\n",
        "print('Vectorizing the text samples...\\n')\n",
        "vectors_train = vectorizer.transform(newsgroups_train.data)\n",
        "vectors_test = vectorizer.transform(newsgroups_test.data)\n",
        "\n",
        "print('{:>6,} train samples with {:<7,} features.'.format(vectors_train.shape[0], vectors_train.shape[1]))\n",
        "print('{:>6,}  test samples with {:<7,} features.'.format(vectors_test.shape[0], vectors_test.shape[1]))"
      ]
    },
    {
      "cell_type": "code",
      "execution_count": null,
      "metadata": {
        "colab": {
          "base_uri": "https://localhost:8080/"
        },
        "id": "Mvutv2D53bJo",
        "outputId": "81596403-14cf-4b4f-f18d-4c7d54d9726c",
        "vscode": {
          "languageId": "python"
        }
      },
      "outputs": [
        {
          "name": "stdout",
          "output_type": "stream",
          "text": [
            "Training the Naive Bays classifier...\n",
            "\n",
            "Predicting labels for the test set...\n",
            "\n",
            "F1 score: 0.683\n"
          ]
        }
      ],
      "source": [
        "# Following the example, we'll use a \"multinomial Naive Bayes\" classifier.\n",
        "clf = MultinomialNB(alpha=.01)\n",
        "\n",
        "# Train the classifier on the training set.\n",
        "print('Training the Naive Bays classifier...\\n')\n",
        "clf.fit(vectors_train, newsgroups_train.target)\n",
        "\n",
        "# Run prediction on the test set.\n",
        "print('Predicting labels for the test set...\\n')\n",
        "pred = clf.predict(vectors_test)\n",
        "\n",
        "# Use the F1 metric to score our classifier's performance on the test set.\n",
        "score = metrics.f1_score(newsgroups_test.target, pred, average='macro')\n",
        "\n",
        "# Print the F1 score!\n",
        "print('F1 score: {:.3}'.format(score))"
      ]
    },
    {
      "cell_type": "markdown",
      "metadata": {
        "id": "16lctEOyNFik"
      },
      "source": [
        "### 5.2. Evaluate BERT on Test Set\n"
      ]
    },
    {
      "cell_type": "markdown",
      "metadata": {
        "id": "rhR99IISNMg9"
      },
      "source": [
        "\n",
        "Now we can apply our fine-tuned BERT model to generate predictions on the test set."
      ]
    },
    {
      "cell_type": "code",
      "execution_count": null,
      "metadata": {
        "colab": {
          "base_uri": "https://localhost:8080/"
        },
        "id": "Hba10sXR7Xi6",
        "outputId": "ac846836-ae12-4265-d1a4-da1e7d898371",
        "vscode": {
          "languageId": "python"
        }
      },
      "outputs": [
        {
          "name": "stdout",
          "output_type": "stream",
          "text": [
            "Predicting labels for 7,532 test comments...\n",
            "  Batch    50  of    471.    Elapsed: 0:00:18.\n",
            "  Batch   100  of    471.    Elapsed: 0:00:36.\n",
            "  Batch   150  of    471.    Elapsed: 0:00:55.\n",
            "  Batch   200  of    471.    Elapsed: 0:01:13.\n",
            "  Batch   250  of    471.    Elapsed: 0:01:31.\n",
            "  Batch   300  of    471.    Elapsed: 0:01:49.\n",
            "  Batch   350  of    471.    Elapsed: 0:02:07.\n",
            "  Batch   400  of    471.    Elapsed: 0:02:25.\n",
            "  Batch   450  of    471.    Elapsed: 0:02:43.\n",
            "    DONE.\n"
          ]
        }
      ],
      "source": [
        "# Create the DataLoaders.\n",
        "\n",
        "# Combine the features into a dataset object.\n",
        "test_data = TensorDataset(test_input_ids, test_attention_masks, test_labels)\n",
        "\n",
        "# Create a sequential sampler--no need to randomize the order!\n",
        "test_sampler = SequentialSampler(test_data)\n",
        "\n",
        "# Create the data loader.\n",
        "test_dataloader = DataLoader(test_data, sampler=test_sampler, batch_size=batch_size)\n",
        "\n",
        "\n",
        "# Predict labels for all test set examples.\n",
        "\n",
        "print('Predicting labels for {:,} test comments...'.format(len(test_input_ids)))\n",
        "\n",
        "# Put model in evaluation mode\n",
        "model.eval()\n",
        "\n",
        "# Tracking variables \n",
        "predictions , true_labels = [], []\n",
        "\n",
        "# Measure elapsed time.\n",
        "t0 = time.time()\n",
        "\n",
        "# Predict \n",
        "for (step, batch) in enumerate(test_dataloader):\n",
        "    \n",
        "    # Add batch to GPU\n",
        "    batch = tuple(t.to(device) for t in batch)\n",
        "  \n",
        "    # Progress update every 50 batches.\n",
        "    if step % 50 == 0 and not step == 0:\n",
        "        # Calculate elapsed time in minutes.\n",
        "        elapsed = format_time(time.time() - t0)\n",
        "        \n",
        "        # Report progress.\n",
        "        print('  Batch {:>5,}  of  {:>5,}.    Elapsed: {:}.'.format(step, len(test_dataloader), elapsed))\n",
        "\n",
        "\n",
        "    # Unpack the inputs from our dataloader\n",
        "    b_input_ids, b_input_mask, b_labels = batch\n",
        "  \n",
        "    # Telling the model not to compute or store the compute graph, saving memory\n",
        "    # and speeding up prediction\n",
        "    with torch.no_grad():\n",
        "        # Forward pass, calculate logit predictions\n",
        "        result = model(b_input_ids, token_type_ids=None, \n",
        "                        attention_mask=b_input_mask, return_dict=True)\n",
        "\n",
        "    logits = result.logits\n",
        "\n",
        "    # Move logits and labels to CPU\n",
        "    logits = logits.detach().cpu().numpy()\n",
        "    label_ids = b_labels.to('cpu').numpy()\n",
        "  \n",
        "    # Store predictions and true labels\n",
        "    predictions.append(logits)\n",
        "    true_labels.append(label_ids)\n",
        "\n",
        "print('    DONE.')"
      ]
    },
    {
      "cell_type": "markdown",
      "metadata": {
        "id": "JrBswmqmyH5m"
      },
      "source": [
        "To turn our model outputs into actual predictions, we need to:\n",
        "\n",
        "1. Re-combine the predictions from across all of the batches.\n",
        "2. Pick a class label for each prediction by choosing the class with the highest output value."
      ]
    },
    {
      "cell_type": "code",
      "execution_count": null,
      "metadata": {
        "colab": {
          "base_uri": "https://localhost:8080/"
        },
        "id": "WlBi2hc-IuVu",
        "outputId": "b676ccb8-1446-484e-98c2-3417ba60271d",
        "vscode": {
          "languageId": "python"
        }
      },
      "outputs": [
        {
          "name": "stdout",
          "output_type": "stream",
          "text": [
            "`predictions` has shape (7532, 20)\n",
            "`predicted_labels` has shape (7532,)\n"
          ]
        }
      ],
      "source": [
        "# Combine the results across the batches.\n",
        "predictions = np.concatenate(predictions, axis=0)\n",
        "true_labels = np.concatenate(true_labels, axis=0)\n",
        "\n",
        "# Take the highest scoring output as the predicted label.\n",
        "predicted_labels = np.argmax(predictions, axis=1)\n",
        "\n",
        "print('`predictions` has shape', predictions.shape)\n",
        "print('`predicted_labels` has shape', predicted_labels.shape)\n"
      ]
    },
    {
      "cell_type": "markdown",
      "metadata": {
        "id": "yMVyXXHlr2pt"
      },
      "source": [
        "Let's peek at the model's outputs for the first 10 test samples, along with the correct labels for each."
      ]
    },
    {
      "cell_type": "code",
      "execution_count": null,
      "metadata": {
        "colab": {
          "base_uri": "https://localhost:8080/"
        },
        "id": "_mjLBPw_LIE0",
        "outputId": "f004ee9e-9048-444e-8e48-3ea744f814ff",
        "vscode": {
          "languageId": "python"
        }
      },
      "outputs": [
        {
          "name": "stdout",
          "output_type": "stream",
          "text": [
            "Predicted: [ 7  5  9 17  0 13  0  5  5  1]\n",
            "  Correct: [ 7  5  0 17 19 13 15 15  5  1]\n"
          ]
        }
      ],
      "source": [
        "# Reduce printing precision for legibility.\n",
        "np.set_printoptions(precision=2)\n",
        "\n",
        "print(\"Predicted:\", str(predicted_labels[0:10]))\n",
        "print(\"  Correct:\", str(true_labels[0:10]))"
      ]
    },
    {
      "cell_type": "markdown",
      "metadata": {
        "id": "T3_xUMQEy2nC"
      },
      "source": [
        "The metric for the 20 Newsgroups dataset used by the scikit-learn example is the F1 score. Let's see how BERT performed!"
      ]
    },
    {
      "cell_type": "code",
      "execution_count": null,
      "metadata": {
        "colab": {
          "base_uri": "https://localhost:8080/"
        },
        "id": "TAm_DiwRD6e5",
        "outputId": "e2f2496c-e589-4b29-b9f4-9049a0a8b989",
        "vscode": {
          "languageId": "python"
        }
      },
      "outputs": [
        {
          "name": "stdout",
          "output_type": "stream",
          "text": [
            "F1 score: 0.702\n"
          ]
        }
      ],
      "source": [
        "from sklearn import metrics\n",
        "\n",
        "# Use the F1 metric to score our classifier's performance on the test set.\n",
        "score = metrics.f1_score(true_labels, predicted_labels, average='macro')\n",
        "\n",
        "# Print the F1 score!\n",
        "print('F1 score: {:.3}'.format(score))"
      ]
    },
    {
      "cell_type": "markdown",
      "metadata": {
        "id": "WrMJKgif08iu"
      },
      "source": [
        "At this point, we have the following F1 scores:\n",
        "\n",
        "* Naive Bayes: `0.683`\n",
        "* BERT:  `0.693`\n",
        "\n",
        "We've outperformed the baseline! \n",
        "\n",
        "Using `batch_size = 8` and `max_len = 512`, the accuracy further increased to an F1 score of `0.701`. However, the training time was around 2 hours on a Tesla K80, so I stuck with `batch_size = 16` and `max_len = 300` for this example."
      ]
    }
  ],
  "metadata": {
    "accelerator": "GPU",
    "colab": {
      "collapsed_sections": [],
      "name": "BERT Multi-Class Classification - 20 Newsgroups.ipynb",
      "provenance": [],
      "toc_visible": true
    },
    "kernelspec": {
      "display_name": "Python 3",
      "name": "python3"
    },
    "widgets": {
      "application/vnd.jupyter.widget-state+json": {
        "001ce8fba55e4cee8276c247b1fa6bfc": {
          "model_module": "@jupyter-widgets/controls",
          "model_module_version": "1.5.0",
          "model_name": "HTMLModel",
          "state": {
            "_dom_classes": [],
            "_model_module": "@jupyter-widgets/controls",
            "_model_module_version": "1.5.0",
            "_model_name": "HTMLModel",
            "_view_count": null,
            "_view_module": "@jupyter-widgets/controls",
            "_view_module_version": "1.5.0",
            "_view_name": "HTMLView",
            "description": "",
            "description_tooltip": null,
            "layout": "IPY_MODEL_e1222ed0862447c9a83818a9a85ec03a",
            "placeholder": "​",
            "style": "IPY_MODEL_c77f613da3dd44bcac25f733cb5c8b70",
            "value": "Downloading: 100%"
          }
        },
        "006b02f9837b4fcb8019e39603b43b8e": {
          "model_module": "@jupyter-widgets/controls",
          "model_module_version": "1.5.0",
          "model_name": "FloatProgressModel",
          "state": {
            "_dom_classes": [],
            "_model_module": "@jupyter-widgets/controls",
            "_model_module_version": "1.5.0",
            "_model_name": "FloatProgressModel",
            "_view_count": null,
            "_view_module": "@jupyter-widgets/controls",
            "_view_module_version": "1.5.0",
            "_view_name": "ProgressView",
            "bar_style": "success",
            "description": "",
            "description_tooltip": null,
            "layout": "IPY_MODEL_8b3a25756a34404ba196168bd72dff49",
            "max": 466062,
            "min": 0,
            "orientation": "horizontal",
            "style": "IPY_MODEL_44bec76f2f724925baa1e7708f49acc4",
            "value": 466062
          }
        },
        "0239b2f3590d4f2b8c51b339ecf92866": {
          "model_module": "@jupyter-widgets/controls",
          "model_module_version": "1.5.0",
          "model_name": "HBoxModel",
          "state": {
            "_dom_classes": [],
            "_model_module": "@jupyter-widgets/controls",
            "_model_module_version": "1.5.0",
            "_model_name": "HBoxModel",
            "_view_count": null,
            "_view_module": "@jupyter-widgets/controls",
            "_view_module_version": "1.5.0",
            "_view_name": "HBoxView",
            "box_style": "",
            "children": [
              "IPY_MODEL_29da5cc80c9e4a71963143bed3b4fdba",
              "IPY_MODEL_37068c53278e494db87d0ac3a7037f76",
              "IPY_MODEL_461e890f243c44a7bc1eb886e56555c5"
            ],
            "layout": "IPY_MODEL_dc3e8db4fb9546788632cedce7d3eff5"
          }
        },
        "058f503b5f2d440f8672e8b1db5f18bb": {
          "model_module": "@jupyter-widgets/base",
          "model_module_version": "1.2.0",
          "model_name": "LayoutModel",
          "state": {
            "_model_module": "@jupyter-widgets/base",
            "_model_module_version": "1.2.0",
            "_model_name": "LayoutModel",
            "_view_count": null,
            "_view_module": "@jupyter-widgets/base",
            "_view_module_version": "1.2.0",
            "_view_name": "LayoutView",
            "align_content": null,
            "align_items": null,
            "align_self": null,
            "border": null,
            "bottom": null,
            "display": null,
            "flex": null,
            "flex_flow": null,
            "grid_area": null,
            "grid_auto_columns": null,
            "grid_auto_flow": null,
            "grid_auto_rows": null,
            "grid_column": null,
            "grid_gap": null,
            "grid_row": null,
            "grid_template_areas": null,
            "grid_template_columns": null,
            "grid_template_rows": null,
            "height": null,
            "justify_content": null,
            "justify_items": null,
            "left": null,
            "margin": null,
            "max_height": null,
            "max_width": null,
            "min_height": null,
            "min_width": null,
            "object_fit": null,
            "object_position": null,
            "order": null,
            "overflow": null,
            "overflow_x": null,
            "overflow_y": null,
            "padding": null,
            "right": null,
            "top": null,
            "visibility": null,
            "width": null
          }
        },
        "05b603eeb44f427699784f48a79480dd": {
          "model_module": "@jupyter-widgets/base",
          "model_module_version": "1.2.0",
          "model_name": "LayoutModel",
          "state": {
            "_model_module": "@jupyter-widgets/base",
            "_model_module_version": "1.2.0",
            "_model_name": "LayoutModel",
            "_view_count": null,
            "_view_module": "@jupyter-widgets/base",
            "_view_module_version": "1.2.0",
            "_view_name": "LayoutView",
            "align_content": null,
            "align_items": null,
            "align_self": null,
            "border": null,
            "bottom": null,
            "display": null,
            "flex": null,
            "flex_flow": null,
            "grid_area": null,
            "grid_auto_columns": null,
            "grid_auto_flow": null,
            "grid_auto_rows": null,
            "grid_column": null,
            "grid_gap": null,
            "grid_row": null,
            "grid_template_areas": null,
            "grid_template_columns": null,
            "grid_template_rows": null,
            "height": null,
            "justify_content": null,
            "justify_items": null,
            "left": null,
            "margin": null,
            "max_height": null,
            "max_width": null,
            "min_height": null,
            "min_width": null,
            "object_fit": null,
            "object_position": null,
            "order": null,
            "overflow": null,
            "overflow_x": null,
            "overflow_y": null,
            "padding": null,
            "right": null,
            "top": null,
            "visibility": null,
            "width": null
          }
        },
        "0ac0d1562f5141c99a90ef8394b60fe9": {
          "model_module": "@jupyter-widgets/base",
          "model_module_version": "1.2.0",
          "model_name": "LayoutModel",
          "state": {
            "_model_module": "@jupyter-widgets/base",
            "_model_module_version": "1.2.0",
            "_model_name": "LayoutModel",
            "_view_count": null,
            "_view_module": "@jupyter-widgets/base",
            "_view_module_version": "1.2.0",
            "_view_name": "LayoutView",
            "align_content": null,
            "align_items": null,
            "align_self": null,
            "border": null,
            "bottom": null,
            "display": null,
            "flex": null,
            "flex_flow": null,
            "grid_area": null,
            "grid_auto_columns": null,
            "grid_auto_flow": null,
            "grid_auto_rows": null,
            "grid_column": null,
            "grid_gap": null,
            "grid_row": null,
            "grid_template_areas": null,
            "grid_template_columns": null,
            "grid_template_rows": null,
            "height": null,
            "justify_content": null,
            "justify_items": null,
            "left": null,
            "margin": null,
            "max_height": null,
            "max_width": null,
            "min_height": null,
            "min_width": null,
            "object_fit": null,
            "object_position": null,
            "order": null,
            "overflow": null,
            "overflow_x": null,
            "overflow_y": null,
            "padding": null,
            "right": null,
            "top": null,
            "visibility": null,
            "width": null
          }
        },
        "0b42c8746eee40d0880d56a8b060fbc5": {
          "model_module": "@jupyter-widgets/base",
          "model_module_version": "1.2.0",
          "model_name": "LayoutModel",
          "state": {
            "_model_module": "@jupyter-widgets/base",
            "_model_module_version": "1.2.0",
            "_model_name": "LayoutModel",
            "_view_count": null,
            "_view_module": "@jupyter-widgets/base",
            "_view_module_version": "1.2.0",
            "_view_name": "LayoutView",
            "align_content": null,
            "align_items": null,
            "align_self": null,
            "border": null,
            "bottom": null,
            "display": null,
            "flex": null,
            "flex_flow": null,
            "grid_area": null,
            "grid_auto_columns": null,
            "grid_auto_flow": null,
            "grid_auto_rows": null,
            "grid_column": null,
            "grid_gap": null,
            "grid_row": null,
            "grid_template_areas": null,
            "grid_template_columns": null,
            "grid_template_rows": null,
            "height": null,
            "justify_content": null,
            "justify_items": null,
            "left": null,
            "margin": null,
            "max_height": null,
            "max_width": null,
            "min_height": null,
            "min_width": null,
            "object_fit": null,
            "object_position": null,
            "order": null,
            "overflow": null,
            "overflow_x": null,
            "overflow_y": null,
            "padding": null,
            "right": null,
            "top": null,
            "visibility": null,
            "width": null
          }
        },
        "0ceb51d5a42e4bc6b2a192836413d3e8": {
          "model_module": "@jupyter-widgets/controls",
          "model_module_version": "1.5.0",
          "model_name": "ProgressStyleModel",
          "state": {
            "_model_module": "@jupyter-widgets/controls",
            "_model_module_version": "1.5.0",
            "_model_name": "ProgressStyleModel",
            "_view_count": null,
            "_view_module": "@jupyter-widgets/base",
            "_view_module_version": "1.2.0",
            "_view_name": "StyleView",
            "bar_color": null,
            "description_width": ""
          }
        },
        "184d7f8b68cd45dd95a5535cbd452eb3": {
          "model_module": "@jupyter-widgets/base",
          "model_module_version": "1.2.0",
          "model_name": "LayoutModel",
          "state": {
            "_model_module": "@jupyter-widgets/base",
            "_model_module_version": "1.2.0",
            "_model_name": "LayoutModel",
            "_view_count": null,
            "_view_module": "@jupyter-widgets/base",
            "_view_module_version": "1.2.0",
            "_view_name": "LayoutView",
            "align_content": null,
            "align_items": null,
            "align_self": null,
            "border": null,
            "bottom": null,
            "display": null,
            "flex": null,
            "flex_flow": null,
            "grid_area": null,
            "grid_auto_columns": null,
            "grid_auto_flow": null,
            "grid_auto_rows": null,
            "grid_column": null,
            "grid_gap": null,
            "grid_row": null,
            "grid_template_areas": null,
            "grid_template_columns": null,
            "grid_template_rows": null,
            "height": null,
            "justify_content": null,
            "justify_items": null,
            "left": null,
            "margin": null,
            "max_height": null,
            "max_width": null,
            "min_height": null,
            "min_width": null,
            "object_fit": null,
            "object_position": null,
            "order": null,
            "overflow": null,
            "overflow_x": null,
            "overflow_y": null,
            "padding": null,
            "right": null,
            "top": null,
            "visibility": null,
            "width": null
          }
        },
        "1f3d2ee55d704671ab5ae0328a0aa7eb": {
          "model_module": "@jupyter-widgets/controls",
          "model_module_version": "1.5.0",
          "model_name": "HBoxModel",
          "state": {
            "_dom_classes": [],
            "_model_module": "@jupyter-widgets/controls",
            "_model_module_version": "1.5.0",
            "_model_name": "HBoxModel",
            "_view_count": null,
            "_view_module": "@jupyter-widgets/controls",
            "_view_module_version": "1.5.0",
            "_view_name": "HBoxView",
            "box_style": "",
            "children": [
              "IPY_MODEL_ab9579f8042344f5aade3959e7c73e72",
              "IPY_MODEL_4fc09db661e840f1a811052dc9c2e997",
              "IPY_MODEL_9f86eef490894c05ae8b2f54587823bb"
            ],
            "layout": "IPY_MODEL_c7156056ed67491a80e327759c854bc9"
          }
        },
        "25ab8f021218492793b134e85aeed99e": {
          "model_module": "@jupyter-widgets/controls",
          "model_module_version": "1.5.0",
          "model_name": "DescriptionStyleModel",
          "state": {
            "_model_module": "@jupyter-widgets/controls",
            "_model_module_version": "1.5.0",
            "_model_name": "DescriptionStyleModel",
            "_view_count": null,
            "_view_module": "@jupyter-widgets/base",
            "_view_module_version": "1.2.0",
            "_view_name": "StyleView",
            "description_width": ""
          }
        },
        "29da5cc80c9e4a71963143bed3b4fdba": {
          "model_module": "@jupyter-widgets/controls",
          "model_module_version": "1.5.0",
          "model_name": "HTMLModel",
          "state": {
            "_dom_classes": [],
            "_model_module": "@jupyter-widgets/controls",
            "_model_module_version": "1.5.0",
            "_model_name": "HTMLModel",
            "_view_count": null,
            "_view_module": "@jupyter-widgets/controls",
            "_view_module_version": "1.5.0",
            "_view_name": "HTMLView",
            "description": "",
            "description_tooltip": null,
            "layout": "IPY_MODEL_0ac0d1562f5141c99a90ef8394b60fe9",
            "placeholder": "​",
            "style": "IPY_MODEL_fb9c649489de43579e69bf25898bcee5",
            "value": "Downloading: 100%"
          }
        },
        "2fb320fc522a4df2b30ca3dcfeb19ec6": {
          "model_module": "@jupyter-widgets/controls",
          "model_module_version": "1.5.0",
          "model_name": "DescriptionStyleModel",
          "state": {
            "_model_module": "@jupyter-widgets/controls",
            "_model_module_version": "1.5.0",
            "_model_name": "DescriptionStyleModel",
            "_view_count": null,
            "_view_module": "@jupyter-widgets/base",
            "_view_module_version": "1.2.0",
            "_view_name": "StyleView",
            "description_width": ""
          }
        },
        "37068c53278e494db87d0ac3a7037f76": {
          "model_module": "@jupyter-widgets/controls",
          "model_module_version": "1.5.0",
          "model_name": "FloatProgressModel",
          "state": {
            "_dom_classes": [],
            "_model_module": "@jupyter-widgets/controls",
            "_model_module_version": "1.5.0",
            "_model_name": "FloatProgressModel",
            "_view_count": null,
            "_view_module": "@jupyter-widgets/controls",
            "_view_module_version": "1.5.0",
            "_view_name": "ProgressView",
            "bar_style": "success",
            "description": "",
            "description_tooltip": null,
            "layout": "IPY_MODEL_184d7f8b68cd45dd95a5535cbd452eb3",
            "max": 440473133,
            "min": 0,
            "orientation": "horizontal",
            "style": "IPY_MODEL_0ceb51d5a42e4bc6b2a192836413d3e8",
            "value": 440473133
          }
        },
        "3a116274536144ef80af6afe4c96d298": {
          "model_module": "@jupyter-widgets/base",
          "model_module_version": "1.2.0",
          "model_name": "LayoutModel",
          "state": {
            "_model_module": "@jupyter-widgets/base",
            "_model_module_version": "1.2.0",
            "_model_name": "LayoutModel",
            "_view_count": null,
            "_view_module": "@jupyter-widgets/base",
            "_view_module_version": "1.2.0",
            "_view_name": "LayoutView",
            "align_content": null,
            "align_items": null,
            "align_self": null,
            "border": null,
            "bottom": null,
            "display": null,
            "flex": null,
            "flex_flow": null,
            "grid_area": null,
            "grid_auto_columns": null,
            "grid_auto_flow": null,
            "grid_auto_rows": null,
            "grid_column": null,
            "grid_gap": null,
            "grid_row": null,
            "grid_template_areas": null,
            "grid_template_columns": null,
            "grid_template_rows": null,
            "height": null,
            "justify_content": null,
            "justify_items": null,
            "left": null,
            "margin": null,
            "max_height": null,
            "max_width": null,
            "min_height": null,
            "min_width": null,
            "object_fit": null,
            "object_position": null,
            "order": null,
            "overflow": null,
            "overflow_x": null,
            "overflow_y": null,
            "padding": null,
            "right": null,
            "top": null,
            "visibility": null,
            "width": null
          }
        },
        "3afc3f45aaab4535a69e89ad9c4ba570": {
          "model_module": "@jupyter-widgets/controls",
          "model_module_version": "1.5.0",
          "model_name": "DescriptionStyleModel",
          "state": {
            "_model_module": "@jupyter-widgets/controls",
            "_model_module_version": "1.5.0",
            "_model_name": "DescriptionStyleModel",
            "_view_count": null,
            "_view_module": "@jupyter-widgets/base",
            "_view_module_version": "1.2.0",
            "_view_name": "StyleView",
            "description_width": ""
          }
        },
        "3eeed6bad52e44e5b5877bc87fca8399": {
          "model_module": "@jupyter-widgets/base",
          "model_module_version": "1.2.0",
          "model_name": "LayoutModel",
          "state": {
            "_model_module": "@jupyter-widgets/base",
            "_model_module_version": "1.2.0",
            "_model_name": "LayoutModel",
            "_view_count": null,
            "_view_module": "@jupyter-widgets/base",
            "_view_module_version": "1.2.0",
            "_view_name": "LayoutView",
            "align_content": null,
            "align_items": null,
            "align_self": null,
            "border": null,
            "bottom": null,
            "display": null,
            "flex": null,
            "flex_flow": null,
            "grid_area": null,
            "grid_auto_columns": null,
            "grid_auto_flow": null,
            "grid_auto_rows": null,
            "grid_column": null,
            "grid_gap": null,
            "grid_row": null,
            "grid_template_areas": null,
            "grid_template_columns": null,
            "grid_template_rows": null,
            "height": null,
            "justify_content": null,
            "justify_items": null,
            "left": null,
            "margin": null,
            "max_height": null,
            "max_width": null,
            "min_height": null,
            "min_width": null,
            "object_fit": null,
            "object_position": null,
            "order": null,
            "overflow": null,
            "overflow_x": null,
            "overflow_y": null,
            "padding": null,
            "right": null,
            "top": null,
            "visibility": null,
            "width": null
          }
        },
        "4424761ad45a4bf886380eb43007ca8c": {
          "model_module": "@jupyter-widgets/base",
          "model_module_version": "1.2.0",
          "model_name": "LayoutModel",
          "state": {
            "_model_module": "@jupyter-widgets/base",
            "_model_module_version": "1.2.0",
            "_model_name": "LayoutModel",
            "_view_count": null,
            "_view_module": "@jupyter-widgets/base",
            "_view_module_version": "1.2.0",
            "_view_name": "LayoutView",
            "align_content": null,
            "align_items": null,
            "align_self": null,
            "border": null,
            "bottom": null,
            "display": null,
            "flex": null,
            "flex_flow": null,
            "grid_area": null,
            "grid_auto_columns": null,
            "grid_auto_flow": null,
            "grid_auto_rows": null,
            "grid_column": null,
            "grid_gap": null,
            "grid_row": null,
            "grid_template_areas": null,
            "grid_template_columns": null,
            "grid_template_rows": null,
            "height": null,
            "justify_content": null,
            "justify_items": null,
            "left": null,
            "margin": null,
            "max_height": null,
            "max_width": null,
            "min_height": null,
            "min_width": null,
            "object_fit": null,
            "object_position": null,
            "order": null,
            "overflow": null,
            "overflow_x": null,
            "overflow_y": null,
            "padding": null,
            "right": null,
            "top": null,
            "visibility": null,
            "width": null
          }
        },
        "44bec76f2f724925baa1e7708f49acc4": {
          "model_module": "@jupyter-widgets/controls",
          "model_module_version": "1.5.0",
          "model_name": "ProgressStyleModel",
          "state": {
            "_model_module": "@jupyter-widgets/controls",
            "_model_module_version": "1.5.0",
            "_model_name": "ProgressStyleModel",
            "_view_count": null,
            "_view_module": "@jupyter-widgets/base",
            "_view_module_version": "1.2.0",
            "_view_name": "StyleView",
            "bar_color": null,
            "description_width": ""
          }
        },
        "461e890f243c44a7bc1eb886e56555c5": {
          "model_module": "@jupyter-widgets/controls",
          "model_module_version": "1.5.0",
          "model_name": "HTMLModel",
          "state": {
            "_dom_classes": [],
            "_model_module": "@jupyter-widgets/controls",
            "_model_module_version": "1.5.0",
            "_model_name": "HTMLModel",
            "_view_count": null,
            "_view_module": "@jupyter-widgets/controls",
            "_view_module_version": "1.5.0",
            "_view_name": "HTMLView",
            "description": "",
            "description_tooltip": null,
            "layout": "IPY_MODEL_9ebed1f6877542c6bac5274bea7e4451",
            "placeholder": "​",
            "style": "IPY_MODEL_3afc3f45aaab4535a69e89ad9c4ba570",
            "value": " 420M/420M [00:08&lt;00:00, 55.4MB/s]"
          }
        },
        "4fc09db661e840f1a811052dc9c2e997": {
          "model_module": "@jupyter-widgets/controls",
          "model_module_version": "1.5.0",
          "model_name": "FloatProgressModel",
          "state": {
            "_dom_classes": [],
            "_model_module": "@jupyter-widgets/controls",
            "_model_module_version": "1.5.0",
            "_model_name": "FloatProgressModel",
            "_view_count": null,
            "_view_module": "@jupyter-widgets/controls",
            "_view_module_version": "1.5.0",
            "_view_name": "ProgressView",
            "bar_style": "success",
            "description": "",
            "description_tooltip": null,
            "layout": "IPY_MODEL_f683a2f3ea0f4b7bba2c8700c8b254db",
            "max": 231508,
            "min": 0,
            "orientation": "horizontal",
            "style": "IPY_MODEL_cd8228e72bc14549be9d33024aced73b",
            "value": 231508
          }
        },
        "5813382fe5df4792ad83da2525f826dd": {
          "model_module": "@jupyter-widgets/controls",
          "model_module_version": "1.5.0",
          "model_name": "HTMLModel",
          "state": {
            "_dom_classes": [],
            "_model_module": "@jupyter-widgets/controls",
            "_model_module_version": "1.5.0",
            "_model_name": "HTMLModel",
            "_view_count": null,
            "_view_module": "@jupyter-widgets/controls",
            "_view_module_version": "1.5.0",
            "_view_name": "HTMLView",
            "description": "",
            "description_tooltip": null,
            "layout": "IPY_MODEL_e92e06fa224a469fa615fa99da0ca0c4",
            "placeholder": "​",
            "style": "IPY_MODEL_b2f175ba2c9e4ad684dd2f51111e44cf",
            "value": " 455k/455k [00:00&lt;00:00, 5.33MB/s]"
          }
        },
        "5ccf2ee35b1d4c188d63a1415a94b5cc": {
          "model_module": "@jupyter-widgets/base",
          "model_module_version": "1.2.0",
          "model_name": "LayoutModel",
          "state": {
            "_model_module": "@jupyter-widgets/base",
            "_model_module_version": "1.2.0",
            "_model_name": "LayoutModel",
            "_view_count": null,
            "_view_module": "@jupyter-widgets/base",
            "_view_module_version": "1.2.0",
            "_view_name": "LayoutView",
            "align_content": null,
            "align_items": null,
            "align_self": null,
            "border": null,
            "bottom": null,
            "display": null,
            "flex": null,
            "flex_flow": null,
            "grid_area": null,
            "grid_auto_columns": null,
            "grid_auto_flow": null,
            "grid_auto_rows": null,
            "grid_column": null,
            "grid_gap": null,
            "grid_row": null,
            "grid_template_areas": null,
            "grid_template_columns": null,
            "grid_template_rows": null,
            "height": null,
            "justify_content": null,
            "justify_items": null,
            "left": null,
            "margin": null,
            "max_height": null,
            "max_width": null,
            "min_height": null,
            "min_width": null,
            "object_fit": null,
            "object_position": null,
            "order": null,
            "overflow": null,
            "overflow_x": null,
            "overflow_y": null,
            "padding": null,
            "right": null,
            "top": null,
            "visibility": null,
            "width": null
          }
        },
        "6c2fdbe614f84ea48c2435e87c8c4a90": {
          "model_module": "@jupyter-widgets/controls",
          "model_module_version": "1.5.0",
          "model_name": "FloatProgressModel",
          "state": {
            "_dom_classes": [],
            "_model_module": "@jupyter-widgets/controls",
            "_model_module_version": "1.5.0",
            "_model_name": "FloatProgressModel",
            "_view_count": null,
            "_view_module": "@jupyter-widgets/controls",
            "_view_module_version": "1.5.0",
            "_view_name": "ProgressView",
            "bar_style": "success",
            "description": "",
            "description_tooltip": null,
            "layout": "IPY_MODEL_3a116274536144ef80af6afe4c96d298",
            "max": 570,
            "min": 0,
            "orientation": "horizontal",
            "style": "IPY_MODEL_fdf55749478d43d6a6c05a8dfbb22210",
            "value": 570
          }
        },
        "6fbe9e4afd4e47d581b894aa84aaaacb": {
          "model_module": "@jupyter-widgets/base",
          "model_module_version": "1.2.0",
          "model_name": "LayoutModel",
          "state": {
            "_model_module": "@jupyter-widgets/base",
            "_model_module_version": "1.2.0",
            "_model_name": "LayoutModel",
            "_view_count": null,
            "_view_module": "@jupyter-widgets/base",
            "_view_module_version": "1.2.0",
            "_view_name": "LayoutView",
            "align_content": null,
            "align_items": null,
            "align_self": null,
            "border": null,
            "bottom": null,
            "display": null,
            "flex": null,
            "flex_flow": null,
            "grid_area": null,
            "grid_auto_columns": null,
            "grid_auto_flow": null,
            "grid_auto_rows": null,
            "grid_column": null,
            "grid_gap": null,
            "grid_row": null,
            "grid_template_areas": null,
            "grid_template_columns": null,
            "grid_template_rows": null,
            "height": null,
            "justify_content": null,
            "justify_items": null,
            "left": null,
            "margin": null,
            "max_height": null,
            "max_width": null,
            "min_height": null,
            "min_width": null,
            "object_fit": null,
            "object_position": null,
            "order": null,
            "overflow": null,
            "overflow_x": null,
            "overflow_y": null,
            "padding": null,
            "right": null,
            "top": null,
            "visibility": null,
            "width": null
          }
        },
        "83b86562c7ff4370acb5b987f3d71d3e": {
          "model_module": "@jupyter-widgets/controls",
          "model_module_version": "1.5.0",
          "model_name": "HBoxModel",
          "state": {
            "_dom_classes": [],
            "_model_module": "@jupyter-widgets/controls",
            "_model_module_version": "1.5.0",
            "_model_name": "HBoxModel",
            "_view_count": null,
            "_view_module": "@jupyter-widgets/controls",
            "_view_module_version": "1.5.0",
            "_view_name": "HBoxView",
            "box_style": "",
            "children": [
              "IPY_MODEL_001ce8fba55e4cee8276c247b1fa6bfc",
              "IPY_MODEL_6c2fdbe614f84ea48c2435e87c8c4a90",
              "IPY_MODEL_8691f1eceefa4d639255be47e3c7f3e6"
            ],
            "layout": "IPY_MODEL_5ccf2ee35b1d4c188d63a1415a94b5cc"
          }
        },
        "8691f1eceefa4d639255be47e3c7f3e6": {
          "model_module": "@jupyter-widgets/controls",
          "model_module_version": "1.5.0",
          "model_name": "HTMLModel",
          "state": {
            "_dom_classes": [],
            "_model_module": "@jupyter-widgets/controls",
            "_model_module_version": "1.5.0",
            "_model_name": "HTMLModel",
            "_view_count": null,
            "_view_module": "@jupyter-widgets/controls",
            "_view_module_version": "1.5.0",
            "_view_name": "HTMLView",
            "description": "",
            "description_tooltip": null,
            "layout": "IPY_MODEL_3eeed6bad52e44e5b5877bc87fca8399",
            "placeholder": "​",
            "style": "IPY_MODEL_ec43be30df9d4b68818b696f60ca12d8",
            "value": " 570/570 [00:00&lt;00:00, 18.0kB/s]"
          }
        },
        "8b3a25756a34404ba196168bd72dff49": {
          "model_module": "@jupyter-widgets/base",
          "model_module_version": "1.2.0",
          "model_name": "LayoutModel",
          "state": {
            "_model_module": "@jupyter-widgets/base",
            "_model_module_version": "1.2.0",
            "_model_name": "LayoutModel",
            "_view_count": null,
            "_view_module": "@jupyter-widgets/base",
            "_view_module_version": "1.2.0",
            "_view_name": "LayoutView",
            "align_content": null,
            "align_items": null,
            "align_self": null,
            "border": null,
            "bottom": null,
            "display": null,
            "flex": null,
            "flex_flow": null,
            "grid_area": null,
            "grid_auto_columns": null,
            "grid_auto_flow": null,
            "grid_auto_rows": null,
            "grid_column": null,
            "grid_gap": null,
            "grid_row": null,
            "grid_template_areas": null,
            "grid_template_columns": null,
            "grid_template_rows": null,
            "height": null,
            "justify_content": null,
            "justify_items": null,
            "left": null,
            "margin": null,
            "max_height": null,
            "max_width": null,
            "min_height": null,
            "min_width": null,
            "object_fit": null,
            "object_position": null,
            "order": null,
            "overflow": null,
            "overflow_x": null,
            "overflow_y": null,
            "padding": null,
            "right": null,
            "top": null,
            "visibility": null,
            "width": null
          }
        },
        "8ccb0d74ea8d424aa78549ea5dcd4ac5": {
          "model_module": "@jupyter-widgets/base",
          "model_module_version": "1.2.0",
          "model_name": "LayoutModel",
          "state": {
            "_model_module": "@jupyter-widgets/base",
            "_model_module_version": "1.2.0",
            "_model_name": "LayoutModel",
            "_view_count": null,
            "_view_module": "@jupyter-widgets/base",
            "_view_module_version": "1.2.0",
            "_view_name": "LayoutView",
            "align_content": null,
            "align_items": null,
            "align_self": null,
            "border": null,
            "bottom": null,
            "display": null,
            "flex": null,
            "flex_flow": null,
            "grid_area": null,
            "grid_auto_columns": null,
            "grid_auto_flow": null,
            "grid_auto_rows": null,
            "grid_column": null,
            "grid_gap": null,
            "grid_row": null,
            "grid_template_areas": null,
            "grid_template_columns": null,
            "grid_template_rows": null,
            "height": null,
            "justify_content": null,
            "justify_items": null,
            "left": null,
            "margin": null,
            "max_height": null,
            "max_width": null,
            "min_height": null,
            "min_width": null,
            "object_fit": null,
            "object_position": null,
            "order": null,
            "overflow": null,
            "overflow_x": null,
            "overflow_y": null,
            "padding": null,
            "right": null,
            "top": null,
            "visibility": null,
            "width": null
          }
        },
        "8d0bd0670b9e4b9e8643e34d61cefc79": {
          "model_module": "@jupyter-widgets/controls",
          "model_module_version": "1.5.0",
          "model_name": "HBoxModel",
          "state": {
            "_dom_classes": [],
            "_model_module": "@jupyter-widgets/controls",
            "_model_module_version": "1.5.0",
            "_model_name": "HBoxModel",
            "_view_count": null,
            "_view_module": "@jupyter-widgets/controls",
            "_view_module_version": "1.5.0",
            "_view_name": "HBoxView",
            "box_style": "",
            "children": [
              "IPY_MODEL_a4c8fb71c0104561a4ef6380aadb69d1",
              "IPY_MODEL_bafd205da8fe4995aa933dd06ead7627",
              "IPY_MODEL_b3317cf0d02c4ec8a5107a5e7ce65505"
            ],
            "layout": "IPY_MODEL_eb79383e93014dcab681c8e3385e4155"
          }
        },
        "9ebed1f6877542c6bac5274bea7e4451": {
          "model_module": "@jupyter-widgets/base",
          "model_module_version": "1.2.0",
          "model_name": "LayoutModel",
          "state": {
            "_model_module": "@jupyter-widgets/base",
            "_model_module_version": "1.2.0",
            "_model_name": "LayoutModel",
            "_view_count": null,
            "_view_module": "@jupyter-widgets/base",
            "_view_module_version": "1.2.0",
            "_view_name": "LayoutView",
            "align_content": null,
            "align_items": null,
            "align_self": null,
            "border": null,
            "bottom": null,
            "display": null,
            "flex": null,
            "flex_flow": null,
            "grid_area": null,
            "grid_auto_columns": null,
            "grid_auto_flow": null,
            "grid_auto_rows": null,
            "grid_column": null,
            "grid_gap": null,
            "grid_row": null,
            "grid_template_areas": null,
            "grid_template_columns": null,
            "grid_template_rows": null,
            "height": null,
            "justify_content": null,
            "justify_items": null,
            "left": null,
            "margin": null,
            "max_height": null,
            "max_width": null,
            "min_height": null,
            "min_width": null,
            "object_fit": null,
            "object_position": null,
            "order": null,
            "overflow": null,
            "overflow_x": null,
            "overflow_y": null,
            "padding": null,
            "right": null,
            "top": null,
            "visibility": null,
            "width": null
          }
        },
        "9f86eef490894c05ae8b2f54587823bb": {
          "model_module": "@jupyter-widgets/controls",
          "model_module_version": "1.5.0",
          "model_name": "HTMLModel",
          "state": {
            "_dom_classes": [],
            "_model_module": "@jupyter-widgets/controls",
            "_model_module_version": "1.5.0",
            "_model_name": "HTMLModel",
            "_view_count": null,
            "_view_module": "@jupyter-widgets/controls",
            "_view_module_version": "1.5.0",
            "_view_name": "HTMLView",
            "description": "",
            "description_tooltip": null,
            "layout": "IPY_MODEL_4424761ad45a4bf886380eb43007ca8c",
            "placeholder": "​",
            "style": "IPY_MODEL_a2dd33451a534c71b09d0e0bfef8e5b3",
            "value": " 226k/226k [00:00&lt;00:00, 5.41MB/s]"
          }
        },
        "a2dd33451a534c71b09d0e0bfef8e5b3": {
          "model_module": "@jupyter-widgets/controls",
          "model_module_version": "1.5.0",
          "model_name": "DescriptionStyleModel",
          "state": {
            "_model_module": "@jupyter-widgets/controls",
            "_model_module_version": "1.5.0",
            "_model_name": "DescriptionStyleModel",
            "_view_count": null,
            "_view_module": "@jupyter-widgets/base",
            "_view_module_version": "1.2.0",
            "_view_name": "StyleView",
            "description_width": ""
          }
        },
        "a4c8fb71c0104561a4ef6380aadb69d1": {
          "model_module": "@jupyter-widgets/controls",
          "model_module_version": "1.5.0",
          "model_name": "HTMLModel",
          "state": {
            "_dom_classes": [],
            "_model_module": "@jupyter-widgets/controls",
            "_model_module_version": "1.5.0",
            "_model_name": "HTMLModel",
            "_view_count": null,
            "_view_module": "@jupyter-widgets/controls",
            "_view_module_version": "1.5.0",
            "_view_name": "HTMLView",
            "description": "",
            "description_tooltip": null,
            "layout": "IPY_MODEL_dc4fdbfea5ef4ddfa879ae8e8c73d41c",
            "placeholder": "​",
            "style": "IPY_MODEL_25ab8f021218492793b134e85aeed99e",
            "value": "Downloading: 100%"
          }
        },
        "ab9579f8042344f5aade3959e7c73e72": {
          "model_module": "@jupyter-widgets/controls",
          "model_module_version": "1.5.0",
          "model_name": "HTMLModel",
          "state": {
            "_dom_classes": [],
            "_model_module": "@jupyter-widgets/controls",
            "_model_module_version": "1.5.0",
            "_model_name": "HTMLModel",
            "_view_count": null,
            "_view_module": "@jupyter-widgets/controls",
            "_view_module_version": "1.5.0",
            "_view_name": "HTMLView",
            "description": "",
            "description_tooltip": null,
            "layout": "IPY_MODEL_058f503b5f2d440f8672e8b1db5f18bb",
            "placeholder": "​",
            "style": "IPY_MODEL_cc4acd7b11f44d35985e182ac4254559",
            "value": "Downloading: 100%"
          }
        },
        "b2f175ba2c9e4ad684dd2f51111e44cf": {
          "model_module": "@jupyter-widgets/controls",
          "model_module_version": "1.5.0",
          "model_name": "DescriptionStyleModel",
          "state": {
            "_model_module": "@jupyter-widgets/controls",
            "_model_module_version": "1.5.0",
            "_model_name": "DescriptionStyleModel",
            "_view_count": null,
            "_view_module": "@jupyter-widgets/base",
            "_view_module_version": "1.2.0",
            "_view_name": "StyleView",
            "description_width": ""
          }
        },
        "b3317cf0d02c4ec8a5107a5e7ce65505": {
          "model_module": "@jupyter-widgets/controls",
          "model_module_version": "1.5.0",
          "model_name": "HTMLModel",
          "state": {
            "_dom_classes": [],
            "_model_module": "@jupyter-widgets/controls",
            "_model_module_version": "1.5.0",
            "_model_name": "HTMLModel",
            "_view_count": null,
            "_view_module": "@jupyter-widgets/controls",
            "_view_module_version": "1.5.0",
            "_view_name": "HTMLView",
            "description": "",
            "description_tooltip": null,
            "layout": "IPY_MODEL_0b42c8746eee40d0880d56a8b060fbc5",
            "placeholder": "​",
            "style": "IPY_MODEL_2fb320fc522a4df2b30ca3dcfeb19ec6",
            "value": " 28.0/28.0 [00:00&lt;00:00, 816B/s]"
          }
        },
        "bafd205da8fe4995aa933dd06ead7627": {
          "model_module": "@jupyter-widgets/controls",
          "model_module_version": "1.5.0",
          "model_name": "FloatProgressModel",
          "state": {
            "_dom_classes": [],
            "_model_module": "@jupyter-widgets/controls",
            "_model_module_version": "1.5.0",
            "_model_name": "FloatProgressModel",
            "_view_count": null,
            "_view_module": "@jupyter-widgets/controls",
            "_view_module_version": "1.5.0",
            "_view_name": "ProgressView",
            "bar_style": "success",
            "description": "",
            "description_tooltip": null,
            "layout": "IPY_MODEL_05b603eeb44f427699784f48a79480dd",
            "max": 28,
            "min": 0,
            "orientation": "horizontal",
            "style": "IPY_MODEL_bc8519042b43417a8f05558e856c95fb",
            "value": 28
          }
        },
        "bc8519042b43417a8f05558e856c95fb": {
          "model_module": "@jupyter-widgets/controls",
          "model_module_version": "1.5.0",
          "model_name": "ProgressStyleModel",
          "state": {
            "_model_module": "@jupyter-widgets/controls",
            "_model_module_version": "1.5.0",
            "_model_name": "ProgressStyleModel",
            "_view_count": null,
            "_view_module": "@jupyter-widgets/base",
            "_view_module_version": "1.2.0",
            "_view_name": "StyleView",
            "bar_color": null,
            "description_width": ""
          }
        },
        "c69c0be3ea7a4dbca4bcff77d9eb836b": {
          "model_module": "@jupyter-widgets/controls",
          "model_module_version": "1.5.0",
          "model_name": "DescriptionStyleModel",
          "state": {
            "_model_module": "@jupyter-widgets/controls",
            "_model_module_version": "1.5.0",
            "_model_name": "DescriptionStyleModel",
            "_view_count": null,
            "_view_module": "@jupyter-widgets/base",
            "_view_module_version": "1.2.0",
            "_view_name": "StyleView",
            "description_width": ""
          }
        },
        "c7156056ed67491a80e327759c854bc9": {
          "model_module": "@jupyter-widgets/base",
          "model_module_version": "1.2.0",
          "model_name": "LayoutModel",
          "state": {
            "_model_module": "@jupyter-widgets/base",
            "_model_module_version": "1.2.0",
            "_model_name": "LayoutModel",
            "_view_count": null,
            "_view_module": "@jupyter-widgets/base",
            "_view_module_version": "1.2.0",
            "_view_name": "LayoutView",
            "align_content": null,
            "align_items": null,
            "align_self": null,
            "border": null,
            "bottom": null,
            "display": null,
            "flex": null,
            "flex_flow": null,
            "grid_area": null,
            "grid_auto_columns": null,
            "grid_auto_flow": null,
            "grid_auto_rows": null,
            "grid_column": null,
            "grid_gap": null,
            "grid_row": null,
            "grid_template_areas": null,
            "grid_template_columns": null,
            "grid_template_rows": null,
            "height": null,
            "justify_content": null,
            "justify_items": null,
            "left": null,
            "margin": null,
            "max_height": null,
            "max_width": null,
            "min_height": null,
            "min_width": null,
            "object_fit": null,
            "object_position": null,
            "order": null,
            "overflow": null,
            "overflow_x": null,
            "overflow_y": null,
            "padding": null,
            "right": null,
            "top": null,
            "visibility": null,
            "width": null
          }
        },
        "c77f613da3dd44bcac25f733cb5c8b70": {
          "model_module": "@jupyter-widgets/controls",
          "model_module_version": "1.5.0",
          "model_name": "DescriptionStyleModel",
          "state": {
            "_model_module": "@jupyter-widgets/controls",
            "_model_module_version": "1.5.0",
            "_model_name": "DescriptionStyleModel",
            "_view_count": null,
            "_view_module": "@jupyter-widgets/base",
            "_view_module_version": "1.2.0",
            "_view_name": "StyleView",
            "description_width": ""
          }
        },
        "cc4acd7b11f44d35985e182ac4254559": {
          "model_module": "@jupyter-widgets/controls",
          "model_module_version": "1.5.0",
          "model_name": "DescriptionStyleModel",
          "state": {
            "_model_module": "@jupyter-widgets/controls",
            "_model_module_version": "1.5.0",
            "_model_name": "DescriptionStyleModel",
            "_view_count": null,
            "_view_module": "@jupyter-widgets/base",
            "_view_module_version": "1.2.0",
            "_view_name": "StyleView",
            "description_width": ""
          }
        },
        "cd8228e72bc14549be9d33024aced73b": {
          "model_module": "@jupyter-widgets/controls",
          "model_module_version": "1.5.0",
          "model_name": "ProgressStyleModel",
          "state": {
            "_model_module": "@jupyter-widgets/controls",
            "_model_module_version": "1.5.0",
            "_model_name": "ProgressStyleModel",
            "_view_count": null,
            "_view_module": "@jupyter-widgets/base",
            "_view_module_version": "1.2.0",
            "_view_name": "StyleView",
            "bar_color": null,
            "description_width": ""
          }
        },
        "d99b1148b5f04720ba24fd8a9f38bdd7": {
          "model_module": "@jupyter-widgets/controls",
          "model_module_version": "1.5.0",
          "model_name": "HBoxModel",
          "state": {
            "_dom_classes": [],
            "_model_module": "@jupyter-widgets/controls",
            "_model_module_version": "1.5.0",
            "_model_name": "HBoxModel",
            "_view_count": null,
            "_view_module": "@jupyter-widgets/controls",
            "_view_module_version": "1.5.0",
            "_view_name": "HBoxView",
            "box_style": "",
            "children": [
              "IPY_MODEL_ef674cc3e12048dcb06a45f3595a28d7",
              "IPY_MODEL_006b02f9837b4fcb8019e39603b43b8e",
              "IPY_MODEL_5813382fe5df4792ad83da2525f826dd"
            ],
            "layout": "IPY_MODEL_6fbe9e4afd4e47d581b894aa84aaaacb"
          }
        },
        "dc3e8db4fb9546788632cedce7d3eff5": {
          "model_module": "@jupyter-widgets/base",
          "model_module_version": "1.2.0",
          "model_name": "LayoutModel",
          "state": {
            "_model_module": "@jupyter-widgets/base",
            "_model_module_version": "1.2.0",
            "_model_name": "LayoutModel",
            "_view_count": null,
            "_view_module": "@jupyter-widgets/base",
            "_view_module_version": "1.2.0",
            "_view_name": "LayoutView",
            "align_content": null,
            "align_items": null,
            "align_self": null,
            "border": null,
            "bottom": null,
            "display": null,
            "flex": null,
            "flex_flow": null,
            "grid_area": null,
            "grid_auto_columns": null,
            "grid_auto_flow": null,
            "grid_auto_rows": null,
            "grid_column": null,
            "grid_gap": null,
            "grid_row": null,
            "grid_template_areas": null,
            "grid_template_columns": null,
            "grid_template_rows": null,
            "height": null,
            "justify_content": null,
            "justify_items": null,
            "left": null,
            "margin": null,
            "max_height": null,
            "max_width": null,
            "min_height": null,
            "min_width": null,
            "object_fit": null,
            "object_position": null,
            "order": null,
            "overflow": null,
            "overflow_x": null,
            "overflow_y": null,
            "padding": null,
            "right": null,
            "top": null,
            "visibility": null,
            "width": null
          }
        },
        "dc4fdbfea5ef4ddfa879ae8e8c73d41c": {
          "model_module": "@jupyter-widgets/base",
          "model_module_version": "1.2.0",
          "model_name": "LayoutModel",
          "state": {
            "_model_module": "@jupyter-widgets/base",
            "_model_module_version": "1.2.0",
            "_model_name": "LayoutModel",
            "_view_count": null,
            "_view_module": "@jupyter-widgets/base",
            "_view_module_version": "1.2.0",
            "_view_name": "LayoutView",
            "align_content": null,
            "align_items": null,
            "align_self": null,
            "border": null,
            "bottom": null,
            "display": null,
            "flex": null,
            "flex_flow": null,
            "grid_area": null,
            "grid_auto_columns": null,
            "grid_auto_flow": null,
            "grid_auto_rows": null,
            "grid_column": null,
            "grid_gap": null,
            "grid_row": null,
            "grid_template_areas": null,
            "grid_template_columns": null,
            "grid_template_rows": null,
            "height": null,
            "justify_content": null,
            "justify_items": null,
            "left": null,
            "margin": null,
            "max_height": null,
            "max_width": null,
            "min_height": null,
            "min_width": null,
            "object_fit": null,
            "object_position": null,
            "order": null,
            "overflow": null,
            "overflow_x": null,
            "overflow_y": null,
            "padding": null,
            "right": null,
            "top": null,
            "visibility": null,
            "width": null
          }
        },
        "e1222ed0862447c9a83818a9a85ec03a": {
          "model_module": "@jupyter-widgets/base",
          "model_module_version": "1.2.0",
          "model_name": "LayoutModel",
          "state": {
            "_model_module": "@jupyter-widgets/base",
            "_model_module_version": "1.2.0",
            "_model_name": "LayoutModel",
            "_view_count": null,
            "_view_module": "@jupyter-widgets/base",
            "_view_module_version": "1.2.0",
            "_view_name": "LayoutView",
            "align_content": null,
            "align_items": null,
            "align_self": null,
            "border": null,
            "bottom": null,
            "display": null,
            "flex": null,
            "flex_flow": null,
            "grid_area": null,
            "grid_auto_columns": null,
            "grid_auto_flow": null,
            "grid_auto_rows": null,
            "grid_column": null,
            "grid_gap": null,
            "grid_row": null,
            "grid_template_areas": null,
            "grid_template_columns": null,
            "grid_template_rows": null,
            "height": null,
            "justify_content": null,
            "justify_items": null,
            "left": null,
            "margin": null,
            "max_height": null,
            "max_width": null,
            "min_height": null,
            "min_width": null,
            "object_fit": null,
            "object_position": null,
            "order": null,
            "overflow": null,
            "overflow_x": null,
            "overflow_y": null,
            "padding": null,
            "right": null,
            "top": null,
            "visibility": null,
            "width": null
          }
        },
        "e92e06fa224a469fa615fa99da0ca0c4": {
          "model_module": "@jupyter-widgets/base",
          "model_module_version": "1.2.0",
          "model_name": "LayoutModel",
          "state": {
            "_model_module": "@jupyter-widgets/base",
            "_model_module_version": "1.2.0",
            "_model_name": "LayoutModel",
            "_view_count": null,
            "_view_module": "@jupyter-widgets/base",
            "_view_module_version": "1.2.0",
            "_view_name": "LayoutView",
            "align_content": null,
            "align_items": null,
            "align_self": null,
            "border": null,
            "bottom": null,
            "display": null,
            "flex": null,
            "flex_flow": null,
            "grid_area": null,
            "grid_auto_columns": null,
            "grid_auto_flow": null,
            "grid_auto_rows": null,
            "grid_column": null,
            "grid_gap": null,
            "grid_row": null,
            "grid_template_areas": null,
            "grid_template_columns": null,
            "grid_template_rows": null,
            "height": null,
            "justify_content": null,
            "justify_items": null,
            "left": null,
            "margin": null,
            "max_height": null,
            "max_width": null,
            "min_height": null,
            "min_width": null,
            "object_fit": null,
            "object_position": null,
            "order": null,
            "overflow": null,
            "overflow_x": null,
            "overflow_y": null,
            "padding": null,
            "right": null,
            "top": null,
            "visibility": null,
            "width": null
          }
        },
        "eb79383e93014dcab681c8e3385e4155": {
          "model_module": "@jupyter-widgets/base",
          "model_module_version": "1.2.0",
          "model_name": "LayoutModel",
          "state": {
            "_model_module": "@jupyter-widgets/base",
            "_model_module_version": "1.2.0",
            "_model_name": "LayoutModel",
            "_view_count": null,
            "_view_module": "@jupyter-widgets/base",
            "_view_module_version": "1.2.0",
            "_view_name": "LayoutView",
            "align_content": null,
            "align_items": null,
            "align_self": null,
            "border": null,
            "bottom": null,
            "display": null,
            "flex": null,
            "flex_flow": null,
            "grid_area": null,
            "grid_auto_columns": null,
            "grid_auto_flow": null,
            "grid_auto_rows": null,
            "grid_column": null,
            "grid_gap": null,
            "grid_row": null,
            "grid_template_areas": null,
            "grid_template_columns": null,
            "grid_template_rows": null,
            "height": null,
            "justify_content": null,
            "justify_items": null,
            "left": null,
            "margin": null,
            "max_height": null,
            "max_width": null,
            "min_height": null,
            "min_width": null,
            "object_fit": null,
            "object_position": null,
            "order": null,
            "overflow": null,
            "overflow_x": null,
            "overflow_y": null,
            "padding": null,
            "right": null,
            "top": null,
            "visibility": null,
            "width": null
          }
        },
        "ec43be30df9d4b68818b696f60ca12d8": {
          "model_module": "@jupyter-widgets/controls",
          "model_module_version": "1.5.0",
          "model_name": "DescriptionStyleModel",
          "state": {
            "_model_module": "@jupyter-widgets/controls",
            "_model_module_version": "1.5.0",
            "_model_name": "DescriptionStyleModel",
            "_view_count": null,
            "_view_module": "@jupyter-widgets/base",
            "_view_module_version": "1.2.0",
            "_view_name": "StyleView",
            "description_width": ""
          }
        },
        "ef674cc3e12048dcb06a45f3595a28d7": {
          "model_module": "@jupyter-widgets/controls",
          "model_module_version": "1.5.0",
          "model_name": "HTMLModel",
          "state": {
            "_dom_classes": [],
            "_model_module": "@jupyter-widgets/controls",
            "_model_module_version": "1.5.0",
            "_model_name": "HTMLModel",
            "_view_count": null,
            "_view_module": "@jupyter-widgets/controls",
            "_view_module_version": "1.5.0",
            "_view_name": "HTMLView",
            "description": "",
            "description_tooltip": null,
            "layout": "IPY_MODEL_8ccb0d74ea8d424aa78549ea5dcd4ac5",
            "placeholder": "​",
            "style": "IPY_MODEL_c69c0be3ea7a4dbca4bcff77d9eb836b",
            "value": "Downloading: 100%"
          }
        },
        "f683a2f3ea0f4b7bba2c8700c8b254db": {
          "model_module": "@jupyter-widgets/base",
          "model_module_version": "1.2.0",
          "model_name": "LayoutModel",
          "state": {
            "_model_module": "@jupyter-widgets/base",
            "_model_module_version": "1.2.0",
            "_model_name": "LayoutModel",
            "_view_count": null,
            "_view_module": "@jupyter-widgets/base",
            "_view_module_version": "1.2.0",
            "_view_name": "LayoutView",
            "align_content": null,
            "align_items": null,
            "align_self": null,
            "border": null,
            "bottom": null,
            "display": null,
            "flex": null,
            "flex_flow": null,
            "grid_area": null,
            "grid_auto_columns": null,
            "grid_auto_flow": null,
            "grid_auto_rows": null,
            "grid_column": null,
            "grid_gap": null,
            "grid_row": null,
            "grid_template_areas": null,
            "grid_template_columns": null,
            "grid_template_rows": null,
            "height": null,
            "justify_content": null,
            "justify_items": null,
            "left": null,
            "margin": null,
            "max_height": null,
            "max_width": null,
            "min_height": null,
            "min_width": null,
            "object_fit": null,
            "object_position": null,
            "order": null,
            "overflow": null,
            "overflow_x": null,
            "overflow_y": null,
            "padding": null,
            "right": null,
            "top": null,
            "visibility": null,
            "width": null
          }
        },
        "fb9c649489de43579e69bf25898bcee5": {
          "model_module": "@jupyter-widgets/controls",
          "model_module_version": "1.5.0",
          "model_name": "DescriptionStyleModel",
          "state": {
            "_model_module": "@jupyter-widgets/controls",
            "_model_module_version": "1.5.0",
            "_model_name": "DescriptionStyleModel",
            "_view_count": null,
            "_view_module": "@jupyter-widgets/base",
            "_view_module_version": "1.2.0",
            "_view_name": "StyleView",
            "description_width": ""
          }
        },
        "fdf55749478d43d6a6c05a8dfbb22210": {
          "model_module": "@jupyter-widgets/controls",
          "model_module_version": "1.5.0",
          "model_name": "ProgressStyleModel",
          "state": {
            "_model_module": "@jupyter-widgets/controls",
            "_model_module_version": "1.5.0",
            "_model_name": "ProgressStyleModel",
            "_view_count": null,
            "_view_module": "@jupyter-widgets/base",
            "_view_module_version": "1.2.0",
            "_view_name": "StyleView",
            "bar_color": null,
            "description_width": ""
          }
        }
      }
    }
  },
  "nbformat": 4,
  "nbformat_minor": 0
}
